{
 "cells": [
  {
   "cell_type": "markdown",
   "metadata": {
    "slideshow": {
     "slide_type": "notes"
    }
   },
   "source": [
    "# Bikesharing Investigation\n",
    "## by Marc Nguyen\n",
    "\n",
    "## Preliminary Wrangling\n",
    "\n",
    "> In this investigation, I will be exploring Ford's GoBike bike sharing program in San Francisco, California.  "
   ]
  },
  {
   "cell_type": "code",
   "execution_count": 1,
   "metadata": {
    "slideshow": {
     "slide_type": "skip"
    }
   },
   "outputs": [],
   "source": [
    "# import all packages and set plots to be embedded inline\n",
    "import numpy as np\n",
    "import pandas as pd\n",
    "import matplotlib.pyplot as plt\n",
    "import seaborn as sb\n",
    "\n",
    "%matplotlib inline"
   ]
  },
  {
   "cell_type": "markdown",
   "metadata": {
    "slideshow": {
     "slide_type": "notes"
    }
   },
   "source": [
    "## Extract:\n",
    "Data will be downloaded from: https://s3.amazonaws.com/fordgobike-data/index.html <br>\n",
    "The database of the Ford GoBike bike sharing program \n",
    "<hr>"
   ]
  },
  {
   "cell_type": "code",
   "execution_count": 2,
   "metadata": {
    "slideshow": {
     "slide_type": "skip"
    }
   },
   "outputs": [],
   "source": [
    "# load in the dataset into a pandas dataframe\n",
    "df1 = pd.read_csv('201801-fordgobike-tripdata.csv')\n",
    "df2 = pd.read_csv('201802-fordgobike-tripdata.csv')\n",
    "df3 = pd.read_csv('201803-fordgobike-tripdata.csv')\n",
    "df4 = pd.read_csv('201804-fordgobike-tripdata.csv')\n",
    "df5 = pd.read_csv('201805-fordgobike-tripdata.csv')\n",
    "df6 = pd.read_csv('201806-fordgobike-tripdata.csv')\n",
    "df7 = pd.read_csv('201807-fordgobike-tripdata.csv')\n",
    "df8 = pd.read_csv('201808-fordgobike-tripdata.csv')\n",
    "df9 = pd.read_csv('201809-fordgobike-tripdata.csv')\n",
    "df10 = pd.read_csv('201810-fordgobike-tripdata.csv')\n",
    "df11 = pd.read_csv('201811-fordgobike-tripdata.csv')\n",
    "df12 = pd.read_csv('201812-fordgobike-tripdata.csv')"
   ]
  },
  {
   "cell_type": "code",
   "execution_count": 3,
   "metadata": {
    "slideshow": {
     "slide_type": "skip"
    }
   },
   "outputs": [],
   "source": [
    "# the data base was divided per month.  combined the 12 months into one dataset for 2018\n",
    "df = pd.concat([df1, df2, df3, df4, df5, df6, df7, df8, df9, df10, df11, df12])"
   ]
  },
  {
   "cell_type": "markdown",
   "metadata": {
    "slideshow": {
     "slide_type": "notes"
    }
   },
   "source": [
    "### What is the structure of your dataset?\n",
    "\n",
    "> The database that was available had data for half of 2017, all of 2018, and just the first month for this year 2019.  The dataset for 2018 was broken up into individual months.  I decided to go with 2018 data only so that I could trend the data throughout a whole year.  I downloaded the individual files and concat the dataframe together to form one dataset to analyze.\n",
    "\n",
    "### What is/are the main feature(s) of interest in your dataset?\n",
    "\n",
    "> The dataset contains information on the bike rental like start time, end time, and location.  It also contains information on the customer, like age, user type, and gender.  We could use these information to display information on the type of uses the rental are used for and what demographics are renting the bikes?\n",
    "\n",
    "### What features in the dataset do you think will help support your investigation into your feature(s) of interest?\n",
    "\n",
    "> The timestamp will be the key to investing the how the bikes are being used.  We could use the timestamp and break it down to hours, days, weeks, and months and plot them to get an ideal how the uses varies through the time band.\n",
    "\n",
    "<br><br>"
   ]
  },
  {
   "cell_type": "markdown",
   "metadata": {
    "slideshow": {
     "slide_type": "skip"
    }
   },
   "source": [
    "## Clean:\n",
    "Here I will be cleaning the data in prepartion for exploration\n",
    "<hr><hr>"
   ]
  },
  {
   "cell_type": "code",
   "execution_count": 4,
   "metadata": {
    "slideshow": {
     "slide_type": "skip"
    }
   },
   "outputs": [
    {
     "data": {
      "text/html": [
       "<div>\n",
       "<style scoped>\n",
       "    .dataframe tbody tr th:only-of-type {\n",
       "        vertical-align: middle;\n",
       "    }\n",
       "\n",
       "    .dataframe tbody tr th {\n",
       "        vertical-align: top;\n",
       "    }\n",
       "\n",
       "    .dataframe thead th {\n",
       "        text-align: right;\n",
       "    }\n",
       "</style>\n",
       "<table border=\"1\" class=\"dataframe\">\n",
       "  <thead>\n",
       "    <tr style=\"text-align: right;\">\n",
       "      <th></th>\n",
       "      <th>duration_sec</th>\n",
       "      <th>start_time</th>\n",
       "      <th>end_time</th>\n",
       "      <th>start_station_id</th>\n",
       "      <th>start_station_name</th>\n",
       "      <th>start_station_latitude</th>\n",
       "      <th>start_station_longitude</th>\n",
       "      <th>end_station_id</th>\n",
       "      <th>end_station_name</th>\n",
       "      <th>end_station_latitude</th>\n",
       "      <th>end_station_longitude</th>\n",
       "      <th>bike_id</th>\n",
       "      <th>user_type</th>\n",
       "      <th>member_birth_year</th>\n",
       "      <th>member_gender</th>\n",
       "      <th>bike_share_for_all_trip</th>\n",
       "    </tr>\n",
       "  </thead>\n",
       "  <tbody>\n",
       "    <tr>\n",
       "      <th>0</th>\n",
       "      <td>75284</td>\n",
       "      <td>2018-01-31 22:52:35.2390</td>\n",
       "      <td>2018-02-01 19:47:19.8240</td>\n",
       "      <td>120.0</td>\n",
       "      <td>Mission Dolores Park</td>\n",
       "      <td>37.761420</td>\n",
       "      <td>-122.426435</td>\n",
       "      <td>285.0</td>\n",
       "      <td>Webster St at O'Farrell St</td>\n",
       "      <td>37.783521</td>\n",
       "      <td>-122.431158</td>\n",
       "      <td>2765</td>\n",
       "      <td>Subscriber</td>\n",
       "      <td>1986.0</td>\n",
       "      <td>Male</td>\n",
       "      <td>No</td>\n",
       "    </tr>\n",
       "    <tr>\n",
       "      <th>1</th>\n",
       "      <td>85422</td>\n",
       "      <td>2018-01-31 16:13:34.3510</td>\n",
       "      <td>2018-02-01 15:57:17.3100</td>\n",
       "      <td>15.0</td>\n",
       "      <td>San Francisco Ferry Building (Harry Bridges Pl...</td>\n",
       "      <td>37.795392</td>\n",
       "      <td>-122.394203</td>\n",
       "      <td>15.0</td>\n",
       "      <td>San Francisco Ferry Building (Harry Bridges Pl...</td>\n",
       "      <td>37.795392</td>\n",
       "      <td>-122.394203</td>\n",
       "      <td>2815</td>\n",
       "      <td>Customer</td>\n",
       "      <td>NaN</td>\n",
       "      <td>NaN</td>\n",
       "      <td>No</td>\n",
       "    </tr>\n",
       "    <tr>\n",
       "      <th>2</th>\n",
       "      <td>71576</td>\n",
       "      <td>2018-01-31 14:23:55.8890</td>\n",
       "      <td>2018-02-01 10:16:52.1160</td>\n",
       "      <td>304.0</td>\n",
       "      <td>Jackson St at 5th St</td>\n",
       "      <td>37.348759</td>\n",
       "      <td>-121.894798</td>\n",
       "      <td>296.0</td>\n",
       "      <td>5th St at Virginia St</td>\n",
       "      <td>37.325998</td>\n",
       "      <td>-121.877120</td>\n",
       "      <td>3039</td>\n",
       "      <td>Customer</td>\n",
       "      <td>1996.0</td>\n",
       "      <td>Male</td>\n",
       "      <td>No</td>\n",
       "    </tr>\n",
       "    <tr>\n",
       "      <th>3</th>\n",
       "      <td>61076</td>\n",
       "      <td>2018-01-31 14:53:23.5620</td>\n",
       "      <td>2018-02-01 07:51:20.5000</td>\n",
       "      <td>75.0</td>\n",
       "      <td>Market St at Franklin St</td>\n",
       "      <td>37.773793</td>\n",
       "      <td>-122.421239</td>\n",
       "      <td>47.0</td>\n",
       "      <td>4th St at Harrison St</td>\n",
       "      <td>37.780955</td>\n",
       "      <td>-122.399749</td>\n",
       "      <td>321</td>\n",
       "      <td>Customer</td>\n",
       "      <td>NaN</td>\n",
       "      <td>NaN</td>\n",
       "      <td>No</td>\n",
       "    </tr>\n",
       "    <tr>\n",
       "      <th>4</th>\n",
       "      <td>39966</td>\n",
       "      <td>2018-01-31 19:52:24.6670</td>\n",
       "      <td>2018-02-01 06:58:31.0530</td>\n",
       "      <td>74.0</td>\n",
       "      <td>Laguna St at Hayes St</td>\n",
       "      <td>37.776435</td>\n",
       "      <td>-122.426244</td>\n",
       "      <td>19.0</td>\n",
       "      <td>Post St at Kearny St</td>\n",
       "      <td>37.788975</td>\n",
       "      <td>-122.403452</td>\n",
       "      <td>617</td>\n",
       "      <td>Subscriber</td>\n",
       "      <td>1991.0</td>\n",
       "      <td>Male</td>\n",
       "      <td>No</td>\n",
       "    </tr>\n",
       "    <tr>\n",
       "      <th>5</th>\n",
       "      <td>6477</td>\n",
       "      <td>2018-01-31 22:58:44.8670</td>\n",
       "      <td>2018-02-01 00:46:41.9080</td>\n",
       "      <td>236.0</td>\n",
       "      <td>Market St at 8th St</td>\n",
       "      <td>37.803686</td>\n",
       "      <td>-122.282497</td>\n",
       "      <td>160.0</td>\n",
       "      <td>West Oakland BART Station</td>\n",
       "      <td>37.805318</td>\n",
       "      <td>-122.294837</td>\n",
       "      <td>1306</td>\n",
       "      <td>Customer</td>\n",
       "      <td>NaN</td>\n",
       "      <td>NaN</td>\n",
       "      <td>No</td>\n",
       "    </tr>\n",
       "    <tr>\n",
       "      <th>6</th>\n",
       "      <td>453</td>\n",
       "      <td>2018-01-31 23:53:53.6320</td>\n",
       "      <td>2018-02-01 00:01:26.8050</td>\n",
       "      <td>110.0</td>\n",
       "      <td>17th &amp; Folsom Street Park (17th St at Folsom St)</td>\n",
       "      <td>37.763708</td>\n",
       "      <td>-122.415204</td>\n",
       "      <td>134.0</td>\n",
       "      <td>Valencia St at 24th St</td>\n",
       "      <td>37.752428</td>\n",
       "      <td>-122.420628</td>\n",
       "      <td>3571</td>\n",
       "      <td>Subscriber</td>\n",
       "      <td>1988.0</td>\n",
       "      <td>Male</td>\n",
       "      <td>No</td>\n",
       "    </tr>\n",
       "    <tr>\n",
       "      <th>7</th>\n",
       "      <td>180</td>\n",
       "      <td>2018-01-31 23:52:09.9030</td>\n",
       "      <td>2018-01-31 23:55:10.8070</td>\n",
       "      <td>81.0</td>\n",
       "      <td>Berry St at 4th St</td>\n",
       "      <td>37.775880</td>\n",
       "      <td>-122.393170</td>\n",
       "      <td>93.0</td>\n",
       "      <td>4th St at Mission Bay Blvd S</td>\n",
       "      <td>37.770407</td>\n",
       "      <td>-122.391198</td>\n",
       "      <td>1403</td>\n",
       "      <td>Subscriber</td>\n",
       "      <td>1980.0</td>\n",
       "      <td>Male</td>\n",
       "      <td>No</td>\n",
       "    </tr>\n",
       "    <tr>\n",
       "      <th>8</th>\n",
       "      <td>996</td>\n",
       "      <td>2018-01-31 23:34:56.0040</td>\n",
       "      <td>2018-01-31 23:51:32.6740</td>\n",
       "      <td>134.0</td>\n",
       "      <td>Valencia St at 24th St</td>\n",
       "      <td>37.752428</td>\n",
       "      <td>-122.420628</td>\n",
       "      <td>4.0</td>\n",
       "      <td>Cyril Magnin St at Ellis St</td>\n",
       "      <td>37.785881</td>\n",
       "      <td>-122.408915</td>\n",
       "      <td>3675</td>\n",
       "      <td>Subscriber</td>\n",
       "      <td>1987.0</td>\n",
       "      <td>Male</td>\n",
       "      <td>Yes</td>\n",
       "    </tr>\n",
       "    <tr>\n",
       "      <th>9</th>\n",
       "      <td>825</td>\n",
       "      <td>2018-01-31 23:34:14.0270</td>\n",
       "      <td>2018-01-31 23:47:59.8090</td>\n",
       "      <td>305.0</td>\n",
       "      <td>Ryland Park</td>\n",
       "      <td>37.342725</td>\n",
       "      <td>-121.895617</td>\n",
       "      <td>317.0</td>\n",
       "      <td>San Salvador St at 9th St</td>\n",
       "      <td>37.333955</td>\n",
       "      <td>-121.877349</td>\n",
       "      <td>1453</td>\n",
       "      <td>Subscriber</td>\n",
       "      <td>1994.0</td>\n",
       "      <td>Female</td>\n",
       "      <td>Yes</td>\n",
       "    </tr>\n",
       "    <tr>\n",
       "      <th>10</th>\n",
       "      <td>1316</td>\n",
       "      <td>2018-01-31 23:24:00.4160</td>\n",
       "      <td>2018-01-31 23:45:56.8240</td>\n",
       "      <td>98.0</td>\n",
       "      <td>Valencia St at 16th St</td>\n",
       "      <td>37.765052</td>\n",
       "      <td>-122.421866</td>\n",
       "      <td>4.0</td>\n",
       "      <td>Cyril Magnin St at Ellis St</td>\n",
       "      <td>37.785881</td>\n",
       "      <td>-122.408915</td>\n",
       "      <td>1278</td>\n",
       "      <td>Customer</td>\n",
       "      <td>NaN</td>\n",
       "      <td>NaN</td>\n",
       "      <td>No</td>\n",
       "    </tr>\n",
       "    <tr>\n",
       "      <th>11</th>\n",
       "      <td>432</td>\n",
       "      <td>2018-01-31 23:34:26.4840</td>\n",
       "      <td>2018-01-31 23:41:39.2970</td>\n",
       "      <td>89.0</td>\n",
       "      <td>Division St at Potrero Ave</td>\n",
       "      <td>37.769218</td>\n",
       "      <td>-122.407646</td>\n",
       "      <td>43.0</td>\n",
       "      <td>San Francisco Public Library (Grove St at Hyde...</td>\n",
       "      <td>37.778768</td>\n",
       "      <td>-122.415929</td>\n",
       "      <td>2928</td>\n",
       "      <td>Subscriber</td>\n",
       "      <td>1993.0</td>\n",
       "      <td>Male</td>\n",
       "      <td>No</td>\n",
       "    </tr>\n",
       "    <tr>\n",
       "      <th>12</th>\n",
       "      <td>601</td>\n",
       "      <td>2018-01-31 23:29:46.8320</td>\n",
       "      <td>2018-01-31 23:39:48.0000</td>\n",
       "      <td>223.0</td>\n",
       "      <td>16th St Mission BART Station 2</td>\n",
       "      <td>37.764765</td>\n",
       "      <td>-122.420091</td>\n",
       "      <td>86.0</td>\n",
       "      <td>Market St at Dolores St</td>\n",
       "      <td>37.769305</td>\n",
       "      <td>-122.426826</td>\n",
       "      <td>3016</td>\n",
       "      <td>Subscriber</td>\n",
       "      <td>1957.0</td>\n",
       "      <td>Male</td>\n",
       "      <td>No</td>\n",
       "    </tr>\n",
       "    <tr>\n",
       "      <th>13</th>\n",
       "      <td>887</td>\n",
       "      <td>2018-01-31 23:24:16.3570</td>\n",
       "      <td>2018-01-31 23:39:04.1230</td>\n",
       "      <td>308.0</td>\n",
       "      <td>San Pedro Square</td>\n",
       "      <td>37.336802</td>\n",
       "      <td>-121.894090</td>\n",
       "      <td>297.0</td>\n",
       "      <td>Locust St at Grant St</td>\n",
       "      <td>37.322980</td>\n",
       "      <td>-121.887931</td>\n",
       "      <td>55</td>\n",
       "      <td>Subscriber</td>\n",
       "      <td>1976.0</td>\n",
       "      <td>Female</td>\n",
       "      <td>Yes</td>\n",
       "    </tr>\n",
       "    <tr>\n",
       "      <th>14</th>\n",
       "      <td>210</td>\n",
       "      <td>2018-01-31 23:33:03.0460</td>\n",
       "      <td>2018-01-31 23:36:33.7040</td>\n",
       "      <td>7.0</td>\n",
       "      <td>Frank H Ogawa Plaza</td>\n",
       "      <td>37.804562</td>\n",
       "      <td>-122.271738</td>\n",
       "      <td>186.0</td>\n",
       "      <td>Lakeside Dr at 14th St</td>\n",
       "      <td>37.801319</td>\n",
       "      <td>-122.262642</td>\n",
       "      <td>2602</td>\n",
       "      <td>Subscriber</td>\n",
       "      <td>1976.0</td>\n",
       "      <td>Male</td>\n",
       "      <td>No</td>\n",
       "    </tr>\n",
       "    <tr>\n",
       "      <th>15</th>\n",
       "      <td>188</td>\n",
       "      <td>2018-01-31 23:30:58.1360</td>\n",
       "      <td>2018-01-31 23:34:06.3910</td>\n",
       "      <td>98.0</td>\n",
       "      <td>Valencia St at 16th St</td>\n",
       "      <td>37.765052</td>\n",
       "      <td>-122.421866</td>\n",
       "      <td>76.0</td>\n",
       "      <td>McCoppin St at Valencia St</td>\n",
       "      <td>37.771662</td>\n",
       "      <td>-122.422423</td>\n",
       "      <td>2556</td>\n",
       "      <td>Subscriber</td>\n",
       "      <td>1964.0</td>\n",
       "      <td>Female</td>\n",
       "      <td>No</td>\n",
       "    </tr>\n",
       "    <tr>\n",
       "      <th>16</th>\n",
       "      <td>808</td>\n",
       "      <td>2018-01-31 23:19:58.6030</td>\n",
       "      <td>2018-01-31 23:33:27.5310</td>\n",
       "      <td>67.0</td>\n",
       "      <td>San Francisco Caltrain Station 2  (Townsend St...</td>\n",
       "      <td>37.776639</td>\n",
       "      <td>-122.395526</td>\n",
       "      <td>98.0</td>\n",
       "      <td>Valencia St at 16th St</td>\n",
       "      <td>37.765052</td>\n",
       "      <td>-122.421866</td>\n",
       "      <td>3041</td>\n",
       "      <td>Subscriber</td>\n",
       "      <td>1976.0</td>\n",
       "      <td>Male</td>\n",
       "      <td>Yes</td>\n",
       "    </tr>\n",
       "    <tr>\n",
       "      <th>17</th>\n",
       "      <td>378</td>\n",
       "      <td>2018-01-31 23:23:23.0680</td>\n",
       "      <td>2018-01-31 23:29:42.0440</td>\n",
       "      <td>80.0</td>\n",
       "      <td>Townsend St at 5th St</td>\n",
       "      <td>37.775306</td>\n",
       "      <td>-122.397380</td>\n",
       "      <td>78.0</td>\n",
       "      <td>Folsom St at 9th St</td>\n",
       "      <td>37.773717</td>\n",
       "      <td>-122.411647</td>\n",
       "      <td>546</td>\n",
       "      <td>Subscriber</td>\n",
       "      <td>1995.0</td>\n",
       "      <td>Female</td>\n",
       "      <td>No</td>\n",
       "    </tr>\n",
       "    <tr>\n",
       "      <th>18</th>\n",
       "      <td>350</td>\n",
       "      <td>2018-01-31 23:13:45.5290</td>\n",
       "      <td>2018-01-31 23:19:36.2650</td>\n",
       "      <td>247.0</td>\n",
       "      <td>Fulton St at Bancroft Way</td>\n",
       "      <td>37.867789</td>\n",
       "      <td>-122.265896</td>\n",
       "      <td>274.0</td>\n",
       "      <td>Oregon St at Adeline St</td>\n",
       "      <td>37.857567</td>\n",
       "      <td>-122.267558</td>\n",
       "      <td>431</td>\n",
       "      <td>Subscriber</td>\n",
       "      <td>NaN</td>\n",
       "      <td>NaN</td>\n",
       "      <td>No</td>\n",
       "    </tr>\n",
       "    <tr>\n",
       "      <th>19</th>\n",
       "      <td>686</td>\n",
       "      <td>2018-01-31 23:07:15.3130</td>\n",
       "      <td>2018-01-31 23:18:41.5580</td>\n",
       "      <td>312.0</td>\n",
       "      <td>San Jose Diridon Station</td>\n",
       "      <td>37.329732</td>\n",
       "      <td>-121.901782</td>\n",
       "      <td>317.0</td>\n",
       "      <td>San Salvador St at 9th St</td>\n",
       "      <td>37.333955</td>\n",
       "      <td>-121.877349</td>\n",
       "      <td>1886</td>\n",
       "      <td>Subscriber</td>\n",
       "      <td>1997.0</td>\n",
       "      <td>Female</td>\n",
       "      <td>No</td>\n",
       "    </tr>\n",
       "    <tr>\n",
       "      <th>20</th>\n",
       "      <td>450</td>\n",
       "      <td>2018-01-31 23:07:13.0630</td>\n",
       "      <td>2018-01-31 23:14:43.8140</td>\n",
       "      <td>241.0</td>\n",
       "      <td>Ashby BART Station</td>\n",
       "      <td>37.852477</td>\n",
       "      <td>-122.270213</td>\n",
       "      <td>157.0</td>\n",
       "      <td>65th St at Hollis St</td>\n",
       "      <td>37.846784</td>\n",
       "      <td>-122.291376</td>\n",
       "      <td>3583</td>\n",
       "      <td>Subscriber</td>\n",
       "      <td>1994.0</td>\n",
       "      <td>Male</td>\n",
       "      <td>No</td>\n",
       "    </tr>\n",
       "    <tr>\n",
       "      <th>21</th>\n",
       "      <td>294</td>\n",
       "      <td>2018-01-31 23:08:12.0000</td>\n",
       "      <td>2018-01-31 23:13:06.6360</td>\n",
       "      <td>239.0</td>\n",
       "      <td>Bancroft Way at Telegraph Ave</td>\n",
       "      <td>37.868813</td>\n",
       "      <td>-122.258764</td>\n",
       "      <td>244.0</td>\n",
       "      <td>Shattuck Ave at Hearst Ave</td>\n",
       "      <td>37.873792</td>\n",
       "      <td>-122.268618</td>\n",
       "      <td>2144</td>\n",
       "      <td>Subscriber</td>\n",
       "      <td>1983.0</td>\n",
       "      <td>Male</td>\n",
       "      <td>No</td>\n",
       "    </tr>\n",
       "    <tr>\n",
       "      <th>22</th>\n",
       "      <td>150</td>\n",
       "      <td>2018-01-31 23:10:09.5860</td>\n",
       "      <td>2018-01-31 23:12:40.3330</td>\n",
       "      <td>182.0</td>\n",
       "      <td>19th Street BART Station</td>\n",
       "      <td>37.809013</td>\n",
       "      <td>-122.268247</td>\n",
       "      <td>183.0</td>\n",
       "      <td>Telegraph Ave at 19th St</td>\n",
       "      <td>37.808702</td>\n",
       "      <td>-122.269927</td>\n",
       "      <td>3468</td>\n",
       "      <td>Subscriber</td>\n",
       "      <td>1945.0</td>\n",
       "      <td>Male</td>\n",
       "      <td>Yes</td>\n",
       "    </tr>\n",
       "    <tr>\n",
       "      <th>23</th>\n",
       "      <td>462</td>\n",
       "      <td>2018-01-31 23:03:48.9400</td>\n",
       "      <td>2018-01-31 23:11:31.0290</td>\n",
       "      <td>119.0</td>\n",
       "      <td>18th St at Noe St</td>\n",
       "      <td>37.761047</td>\n",
       "      <td>-122.432642</td>\n",
       "      <td>134.0</td>\n",
       "      <td>Valencia St at 24th St</td>\n",
       "      <td>37.752428</td>\n",
       "      <td>-122.420628</td>\n",
       "      <td>1432</td>\n",
       "      <td>Subscriber</td>\n",
       "      <td>1971.0</td>\n",
       "      <td>Male</td>\n",
       "      <td>Yes</td>\n",
       "    </tr>\n",
       "    <tr>\n",
       "      <th>24</th>\n",
       "      <td>379</td>\n",
       "      <td>2018-01-31 23:04:27.7010</td>\n",
       "      <td>2018-01-31 23:10:46.9760</td>\n",
       "      <td>176.0</td>\n",
       "      <td>MacArthur BART Station</td>\n",
       "      <td>37.828410</td>\n",
       "      <td>-122.266315</td>\n",
       "      <td>189.0</td>\n",
       "      <td>Genoa St at 55th St</td>\n",
       "      <td>37.839649</td>\n",
       "      <td>-122.271756</td>\n",
       "      <td>997</td>\n",
       "      <td>Subscriber</td>\n",
       "      <td>1975.0</td>\n",
       "      <td>Male</td>\n",
       "      <td>No</td>\n",
       "    </tr>\n",
       "    <tr>\n",
       "      <th>25</th>\n",
       "      <td>880</td>\n",
       "      <td>2018-01-31 22:53:41.3020</td>\n",
       "      <td>2018-01-31 23:08:21.4430</td>\n",
       "      <td>123.0</td>\n",
       "      <td>Folsom St at 19th St</td>\n",
       "      <td>37.760594</td>\n",
       "      <td>-122.414817</td>\n",
       "      <td>145.0</td>\n",
       "      <td>29th St at Church St</td>\n",
       "      <td>37.743684</td>\n",
       "      <td>-122.426806</td>\n",
       "      <td>3725</td>\n",
       "      <td>Subscriber</td>\n",
       "      <td>1986.0</td>\n",
       "      <td>Male</td>\n",
       "      <td>No</td>\n",
       "    </tr>\n",
       "    <tr>\n",
       "      <th>26</th>\n",
       "      <td>1210</td>\n",
       "      <td>2018-01-31 22:45:37.1250</td>\n",
       "      <td>2018-01-31 23:05:47.5760</td>\n",
       "      <td>285.0</td>\n",
       "      <td>Webster St at O'Farrell St</td>\n",
       "      <td>37.783521</td>\n",
       "      <td>-122.431158</td>\n",
       "      <td>133.0</td>\n",
       "      <td>Valencia St at 22nd St</td>\n",
       "      <td>37.755213</td>\n",
       "      <td>-122.420975</td>\n",
       "      <td>1059</td>\n",
       "      <td>Subscriber</td>\n",
       "      <td>1991.0</td>\n",
       "      <td>Male</td>\n",
       "      <td>No</td>\n",
       "    </tr>\n",
       "    <tr>\n",
       "      <th>27</th>\n",
       "      <td>259</td>\n",
       "      <td>2018-01-31 23:01:12.7920</td>\n",
       "      <td>2018-01-31 23:05:32.1570</td>\n",
       "      <td>239.0</td>\n",
       "      <td>Bancroft Way at Telegraph Ave</td>\n",
       "      <td>37.868813</td>\n",
       "      <td>-122.258764</td>\n",
       "      <td>266.0</td>\n",
       "      <td>Parker St at Fulton St</td>\n",
       "      <td>37.862464</td>\n",
       "      <td>-122.264791</td>\n",
       "      <td>1208</td>\n",
       "      <td>Subscriber</td>\n",
       "      <td>1994.0</td>\n",
       "      <td>Male</td>\n",
       "      <td>No</td>\n",
       "    </tr>\n",
       "    <tr>\n",
       "      <th>28</th>\n",
       "      <td>592</td>\n",
       "      <td>2018-01-31 22:53:27.7790</td>\n",
       "      <td>2018-01-31 23:03:20.2900</td>\n",
       "      <td>202.0</td>\n",
       "      <td>Washington St at 8th St</td>\n",
       "      <td>37.800754</td>\n",
       "      <td>-122.274894</td>\n",
       "      <td>195.0</td>\n",
       "      <td>Bay Pl at Vernon St</td>\n",
       "      <td>37.812314</td>\n",
       "      <td>-122.260779</td>\n",
       "      <td>1834</td>\n",
       "      <td>Customer</td>\n",
       "      <td>1978.0</td>\n",
       "      <td>Male</td>\n",
       "      <td>No</td>\n",
       "    </tr>\n",
       "    <tr>\n",
       "      <th>29</th>\n",
       "      <td>1059</td>\n",
       "      <td>2018-01-31 22:45:16.5700</td>\n",
       "      <td>2018-01-31 23:02:56.2850</td>\n",
       "      <td>141.0</td>\n",
       "      <td>Valencia St at Cesar Chavez St</td>\n",
       "      <td>37.747998</td>\n",
       "      <td>-122.420219</td>\n",
       "      <td>79.0</td>\n",
       "      <td>7th St at Brannan St</td>\n",
       "      <td>37.773492</td>\n",
       "      <td>-122.403673</td>\n",
       "      <td>1248</td>\n",
       "      <td>Subscriber</td>\n",
       "      <td>1988.0</td>\n",
       "      <td>Male</td>\n",
       "      <td>No</td>\n",
       "    </tr>\n",
       "    <tr>\n",
       "      <th>...</th>\n",
       "      <td>...</td>\n",
       "      <td>...</td>\n",
       "      <td>...</td>\n",
       "      <td>...</td>\n",
       "      <td>...</td>\n",
       "      <td>...</td>\n",
       "      <td>...</td>\n",
       "      <td>...</td>\n",
       "      <td>...</td>\n",
       "      <td>...</td>\n",
       "      <td>...</td>\n",
       "      <td>...</td>\n",
       "      <td>...</td>\n",
       "      <td>...</td>\n",
       "      <td>...</td>\n",
       "      <td>...</td>\n",
       "    </tr>\n",
       "    <tr>\n",
       "      <th>131333</th>\n",
       "      <td>310</td>\n",
       "      <td>2018-12-01 00:45:44.8680</td>\n",
       "      <td>2018-12-01 00:50:55.7970</td>\n",
       "      <td>252.0</td>\n",
       "      <td>Channing Way at Shattuck Ave</td>\n",
       "      <td>37.865847</td>\n",
       "      <td>-122.267443</td>\n",
       "      <td>238.0</td>\n",
       "      <td>MLK Jr Way at University Ave</td>\n",
       "      <td>37.871719</td>\n",
       "      <td>-122.273068</td>\n",
       "      <td>367</td>\n",
       "      <td>Subscriber</td>\n",
       "      <td>1991.0</td>\n",
       "      <td>Male</td>\n",
       "      <td>No</td>\n",
       "    </tr>\n",
       "    <tr>\n",
       "      <th>131334</th>\n",
       "      <td>1338</td>\n",
       "      <td>2018-12-01 00:27:24.8750</td>\n",
       "      <td>2018-12-01 00:49:43.3490</td>\n",
       "      <td>371.0</td>\n",
       "      <td>Lombard St at Columbus Ave</td>\n",
       "      <td>37.802746</td>\n",
       "      <td>-122.413579</td>\n",
       "      <td>104.0</td>\n",
       "      <td>4th St at 16th St</td>\n",
       "      <td>37.767045</td>\n",
       "      <td>-122.390833</td>\n",
       "      <td>1985</td>\n",
       "      <td>Subscriber</td>\n",
       "      <td>1986.0</td>\n",
       "      <td>Male</td>\n",
       "      <td>No</td>\n",
       "    </tr>\n",
       "    <tr>\n",
       "      <th>131335</th>\n",
       "      <td>154</td>\n",
       "      <td>2018-12-01 00:44:24.8380</td>\n",
       "      <td>2018-12-01 00:46:59.3350</td>\n",
       "      <td>70.0</td>\n",
       "      <td>Central Ave at Fell St</td>\n",
       "      <td>37.773311</td>\n",
       "      <td>-122.444293</td>\n",
       "      <td>52.0</td>\n",
       "      <td>McAllister St at Baker St</td>\n",
       "      <td>37.777416</td>\n",
       "      <td>-122.441838</td>\n",
       "      <td>449</td>\n",
       "      <td>Subscriber</td>\n",
       "      <td>1994.0</td>\n",
       "      <td>Male</td>\n",
       "      <td>No</td>\n",
       "    </tr>\n",
       "    <tr>\n",
       "      <th>131336</th>\n",
       "      <td>862</td>\n",
       "      <td>2018-12-01 00:32:11.0630</td>\n",
       "      <td>2018-12-01 00:46:33.7900</td>\n",
       "      <td>4.0</td>\n",
       "      <td>Cyril Magnin St at Ellis St</td>\n",
       "      <td>37.785881</td>\n",
       "      <td>-122.408915</td>\n",
       "      <td>86.0</td>\n",
       "      <td>Market St at Dolores St</td>\n",
       "      <td>37.769305</td>\n",
       "      <td>-122.426826</td>\n",
       "      <td>4408</td>\n",
       "      <td>Customer</td>\n",
       "      <td>1975.0</td>\n",
       "      <td>Male</td>\n",
       "      <td>No</td>\n",
       "    </tr>\n",
       "    <tr>\n",
       "      <th>131337</th>\n",
       "      <td>1310</td>\n",
       "      <td>2018-12-01 00:23:53.3420</td>\n",
       "      <td>2018-12-01 00:45:43.5880</td>\n",
       "      <td>85.0</td>\n",
       "      <td>Church St at Duboce Ave</td>\n",
       "      <td>37.770083</td>\n",
       "      <td>-122.429156</td>\n",
       "      <td>13.0</td>\n",
       "      <td>Commercial St at Montgomery St</td>\n",
       "      <td>37.794231</td>\n",
       "      <td>-122.402923</td>\n",
       "      <td>1525</td>\n",
       "      <td>Subscriber</td>\n",
       "      <td>1994.0</td>\n",
       "      <td>Male</td>\n",
       "      <td>Yes</td>\n",
       "    </tr>\n",
       "    <tr>\n",
       "      <th>131338</th>\n",
       "      <td>230</td>\n",
       "      <td>2018-12-01 00:41:31.9550</td>\n",
       "      <td>2018-12-01 00:45:22.4160</td>\n",
       "      <td>312.0</td>\n",
       "      <td>San Jose Diridon Station</td>\n",
       "      <td>37.329732</td>\n",
       "      <td>-121.901782</td>\n",
       "      <td>314.0</td>\n",
       "      <td>Santa Clara St at Almaden Blvd</td>\n",
       "      <td>37.333988</td>\n",
       "      <td>-121.894902</td>\n",
       "      <td>1379</td>\n",
       "      <td>Subscriber</td>\n",
       "      <td>1957.0</td>\n",
       "      <td>Male</td>\n",
       "      <td>No</td>\n",
       "    </tr>\n",
       "    <tr>\n",
       "      <th>131339</th>\n",
       "      <td>2071</td>\n",
       "      <td>2018-12-01 00:09:55.5800</td>\n",
       "      <td>2018-12-01 00:44:26.6290</td>\n",
       "      <td>36.0</td>\n",
       "      <td>Folsom St at 3rd St</td>\n",
       "      <td>37.783830</td>\n",
       "      <td>-122.398870</td>\n",
       "      <td>97.0</td>\n",
       "      <td>14th St at Mission St</td>\n",
       "      <td>37.768265</td>\n",
       "      <td>-122.420110</td>\n",
       "      <td>316</td>\n",
       "      <td>Customer</td>\n",
       "      <td>1991.0</td>\n",
       "      <td>Male</td>\n",
       "      <td>No</td>\n",
       "    </tr>\n",
       "    <tr>\n",
       "      <th>131340</th>\n",
       "      <td>1958</td>\n",
       "      <td>2018-12-01 00:11:35.0220</td>\n",
       "      <td>2018-12-01 00:44:13.6320</td>\n",
       "      <td>44.0</td>\n",
       "      <td>Civic Center/UN Plaza BART Station (Market St ...</td>\n",
       "      <td>37.781074</td>\n",
       "      <td>-122.411738</td>\n",
       "      <td>5.0</td>\n",
       "      <td>Powell St BART Station (Market St at 5th St)</td>\n",
       "      <td>37.783899</td>\n",
       "      <td>-122.408445</td>\n",
       "      <td>4395</td>\n",
       "      <td>Subscriber</td>\n",
       "      <td>1993.0</td>\n",
       "      <td>Male</td>\n",
       "      <td>No</td>\n",
       "    </tr>\n",
       "    <tr>\n",
       "      <th>131341</th>\n",
       "      <td>268</td>\n",
       "      <td>2018-12-01 00:37:23.1340</td>\n",
       "      <td>2018-12-01 00:41:51.9670</td>\n",
       "      <td>147.0</td>\n",
       "      <td>29th St at Tiffany Ave</td>\n",
       "      <td>37.744067</td>\n",
       "      <td>-122.421472</td>\n",
       "      <td>121.0</td>\n",
       "      <td>Mission Playground</td>\n",
       "      <td>37.759210</td>\n",
       "      <td>-122.421339</td>\n",
       "      <td>4451</td>\n",
       "      <td>Subscriber</td>\n",
       "      <td>1989.0</td>\n",
       "      <td>Male</td>\n",
       "      <td>No</td>\n",
       "    </tr>\n",
       "    <tr>\n",
       "      <th>131342</th>\n",
       "      <td>1679</td>\n",
       "      <td>2018-12-01 00:13:35.1430</td>\n",
       "      <td>2018-12-01 00:41:34.8600</td>\n",
       "      <td>240.0</td>\n",
       "      <td>Haste St at Telegraph Ave</td>\n",
       "      <td>37.866043</td>\n",
       "      <td>-122.258804</td>\n",
       "      <td>245.0</td>\n",
       "      <td>Downtown Berkeley BART</td>\n",
       "      <td>37.870139</td>\n",
       "      <td>-122.268422</td>\n",
       "      <td>3701</td>\n",
       "      <td>Customer</td>\n",
       "      <td>1998.0</td>\n",
       "      <td>Female</td>\n",
       "      <td>No</td>\n",
       "    </tr>\n",
       "    <tr>\n",
       "      <th>131343</th>\n",
       "      <td>1658</td>\n",
       "      <td>2018-12-01 00:13:33.1240</td>\n",
       "      <td>2018-12-01 00:41:11.7630</td>\n",
       "      <td>240.0</td>\n",
       "      <td>Haste St at Telegraph Ave</td>\n",
       "      <td>37.866043</td>\n",
       "      <td>-122.258804</td>\n",
       "      <td>245.0</td>\n",
       "      <td>Downtown Berkeley BART</td>\n",
       "      <td>37.870139</td>\n",
       "      <td>-122.268422</td>\n",
       "      <td>3625</td>\n",
       "      <td>Customer</td>\n",
       "      <td>1998.0</td>\n",
       "      <td>Female</td>\n",
       "      <td>No</td>\n",
       "    </tr>\n",
       "    <tr>\n",
       "      <th>131344</th>\n",
       "      <td>293</td>\n",
       "      <td>2018-12-01 00:36:01.5250</td>\n",
       "      <td>2018-12-01 00:40:55.2850</td>\n",
       "      <td>95.0</td>\n",
       "      <td>Sanchez St at 15th St</td>\n",
       "      <td>37.766219</td>\n",
       "      <td>-122.431060</td>\n",
       "      <td>72.0</td>\n",
       "      <td>Page St at Scott St</td>\n",
       "      <td>37.772406</td>\n",
       "      <td>-122.435650</td>\n",
       "      <td>1043</td>\n",
       "      <td>Subscriber</td>\n",
       "      <td>1981.0</td>\n",
       "      <td>Male</td>\n",
       "      <td>No</td>\n",
       "    </tr>\n",
       "    <tr>\n",
       "      <th>131345</th>\n",
       "      <td>426</td>\n",
       "      <td>2018-12-01 00:32:13.1250</td>\n",
       "      <td>2018-12-01 00:39:19.8710</td>\n",
       "      <td>50.0</td>\n",
       "      <td>2nd St at Townsend St</td>\n",
       "      <td>37.780526</td>\n",
       "      <td>-122.390288</td>\n",
       "      <td>21.0</td>\n",
       "      <td>Montgomery St BART Station (Market St at 2nd St)</td>\n",
       "      <td>37.789625</td>\n",
       "      <td>-122.400811</td>\n",
       "      <td>3154</td>\n",
       "      <td>Subscriber</td>\n",
       "      <td>1986.0</td>\n",
       "      <td>Male</td>\n",
       "      <td>No</td>\n",
       "    </tr>\n",
       "    <tr>\n",
       "      <th>131346</th>\n",
       "      <td>447</td>\n",
       "      <td>2018-12-01 00:31:36.1480</td>\n",
       "      <td>2018-12-01 00:39:03.3910</td>\n",
       "      <td>368.0</td>\n",
       "      <td>Myrtle St at Polk St</td>\n",
       "      <td>37.785434</td>\n",
       "      <td>-122.419622</td>\n",
       "      <td>17.0</td>\n",
       "      <td>Embarcadero BART Station (Beale St at Market St)</td>\n",
       "      <td>37.792251</td>\n",
       "      <td>-122.397086</td>\n",
       "      <td>1677</td>\n",
       "      <td>Subscriber</td>\n",
       "      <td>1980.0</td>\n",
       "      <td>Other</td>\n",
       "      <td>Yes</td>\n",
       "    </tr>\n",
       "    <tr>\n",
       "      <th>131347</th>\n",
       "      <td>1694</td>\n",
       "      <td>2018-12-01 00:09:17.1590</td>\n",
       "      <td>2018-12-01 00:37:31.2400</td>\n",
       "      <td>14.0</td>\n",
       "      <td>Clay St at Battery St</td>\n",
       "      <td>37.795001</td>\n",
       "      <td>-122.399970</td>\n",
       "      <td>147.0</td>\n",
       "      <td>29th St at Tiffany Ave</td>\n",
       "      <td>37.744067</td>\n",
       "      <td>-122.421472</td>\n",
       "      <td>209</td>\n",
       "      <td>Subscriber</td>\n",
       "      <td>1993.0</td>\n",
       "      <td>Male</td>\n",
       "      <td>No</td>\n",
       "    </tr>\n",
       "    <tr>\n",
       "      <th>131348</th>\n",
       "      <td>269</td>\n",
       "      <td>2018-12-01 00:31:00.0910</td>\n",
       "      <td>2018-12-01 00:35:29.8710</td>\n",
       "      <td>98.0</td>\n",
       "      <td>Valencia St at 16th St</td>\n",
       "      <td>37.765052</td>\n",
       "      <td>-122.421866</td>\n",
       "      <td>121.0</td>\n",
       "      <td>Mission Playground</td>\n",
       "      <td>37.759210</td>\n",
       "      <td>-122.421339</td>\n",
       "      <td>3147</td>\n",
       "      <td>Subscriber</td>\n",
       "      <td>1993.0</td>\n",
       "      <td>Male</td>\n",
       "      <td>No</td>\n",
       "    </tr>\n",
       "    <tr>\n",
       "      <th>131349</th>\n",
       "      <td>685</td>\n",
       "      <td>2018-12-01 00:21:16.2400</td>\n",
       "      <td>2018-12-01 00:32:42.0000</td>\n",
       "      <td>109.0</td>\n",
       "      <td>17th St at Valencia St</td>\n",
       "      <td>37.763316</td>\n",
       "      <td>-122.421904</td>\n",
       "      <td>60.0</td>\n",
       "      <td>8th St at Ringold St</td>\n",
       "      <td>37.774520</td>\n",
       "      <td>-122.409449</td>\n",
       "      <td>3247</td>\n",
       "      <td>Subscriber</td>\n",
       "      <td>1987.0</td>\n",
       "      <td>Female</td>\n",
       "      <td>No</td>\n",
       "    </tr>\n",
       "    <tr>\n",
       "      <th>131350</th>\n",
       "      <td>681</td>\n",
       "      <td>2018-12-01 00:19:41.3830</td>\n",
       "      <td>2018-12-01 00:31:02.6050</td>\n",
       "      <td>15.0</td>\n",
       "      <td>San Francisco Ferry Building (Harry Bridges Pl...</td>\n",
       "      <td>37.795392</td>\n",
       "      <td>-122.394203</td>\n",
       "      <td>323.0</td>\n",
       "      <td>Broadway at Kearny</td>\n",
       "      <td>37.798014</td>\n",
       "      <td>-122.405950</td>\n",
       "      <td>3460</td>\n",
       "      <td>Subscriber</td>\n",
       "      <td>1959.0</td>\n",
       "      <td>Male</td>\n",
       "      <td>No</td>\n",
       "    </tr>\n",
       "    <tr>\n",
       "      <th>131351</th>\n",
       "      <td>1166</td>\n",
       "      <td>2018-12-01 00:11:04.8640</td>\n",
       "      <td>2018-12-01 00:30:31.3480</td>\n",
       "      <td>160.0</td>\n",
       "      <td>West Oakland BART Station</td>\n",
       "      <td>37.805318</td>\n",
       "      <td>-122.294837</td>\n",
       "      <td>155.0</td>\n",
       "      <td>Emeryville Public Market</td>\n",
       "      <td>37.840521</td>\n",
       "      <td>-122.293528</td>\n",
       "      <td>1579</td>\n",
       "      <td>Subscriber</td>\n",
       "      <td>1997.0</td>\n",
       "      <td>Male</td>\n",
       "      <td>No</td>\n",
       "    </tr>\n",
       "    <tr>\n",
       "      <th>131352</th>\n",
       "      <td>763</td>\n",
       "      <td>2018-12-01 00:17:34.4970</td>\n",
       "      <td>2018-12-01 00:30:18.1070</td>\n",
       "      <td>73.0</td>\n",
       "      <td>Pierce St at Haight St</td>\n",
       "      <td>37.771793</td>\n",
       "      <td>-122.433708</td>\n",
       "      <td>121.0</td>\n",
       "      <td>Mission Playground</td>\n",
       "      <td>37.759210</td>\n",
       "      <td>-122.421339</td>\n",
       "      <td>90</td>\n",
       "      <td>Subscriber</td>\n",
       "      <td>1991.0</td>\n",
       "      <td>Female</td>\n",
       "      <td>No</td>\n",
       "    </tr>\n",
       "    <tr>\n",
       "      <th>131353</th>\n",
       "      <td>760</td>\n",
       "      <td>2018-12-01 00:17:29.9600</td>\n",
       "      <td>2018-12-01 00:30:10.1780</td>\n",
       "      <td>73.0</td>\n",
       "      <td>Pierce St at Haight St</td>\n",
       "      <td>37.771793</td>\n",
       "      <td>-122.433708</td>\n",
       "      <td>121.0</td>\n",
       "      <td>Mission Playground</td>\n",
       "      <td>37.759210</td>\n",
       "      <td>-122.421339</td>\n",
       "      <td>2758</td>\n",
       "      <td>Subscriber</td>\n",
       "      <td>1991.0</td>\n",
       "      <td>Male</td>\n",
       "      <td>No</td>\n",
       "    </tr>\n",
       "    <tr>\n",
       "      <th>131354</th>\n",
       "      <td>538</td>\n",
       "      <td>2018-12-01 00:16:34.0850</td>\n",
       "      <td>2018-12-01 00:25:32.4550</td>\n",
       "      <td>5.0</td>\n",
       "      <td>Powell St BART Station (Market St at 5th St)</td>\n",
       "      <td>37.783899</td>\n",
       "      <td>-122.408445</td>\n",
       "      <td>39.0</td>\n",
       "      <td>Scott St at Golden Gate Ave</td>\n",
       "      <td>37.778999</td>\n",
       "      <td>-122.436861</td>\n",
       "      <td>4384</td>\n",
       "      <td>Subscriber</td>\n",
       "      <td>1991.0</td>\n",
       "      <td>Male</td>\n",
       "      <td>No</td>\n",
       "    </tr>\n",
       "    <tr>\n",
       "      <th>131355</th>\n",
       "      <td>671</td>\n",
       "      <td>2018-12-01 00:12:49.6400</td>\n",
       "      <td>2018-12-01 00:24:01.5120</td>\n",
       "      <td>34.0</td>\n",
       "      <td>Father Alfred E Boeddeker Park</td>\n",
       "      <td>37.783988</td>\n",
       "      <td>-122.412408</td>\n",
       "      <td>92.0</td>\n",
       "      <td>Mission Bay Kids Park</td>\n",
       "      <td>37.772301</td>\n",
       "      <td>-122.393028</td>\n",
       "      <td>4377</td>\n",
       "      <td>Subscriber</td>\n",
       "      <td>1972.0</td>\n",
       "      <td>Male</td>\n",
       "      <td>Yes</td>\n",
       "    </tr>\n",
       "    <tr>\n",
       "      <th>131356</th>\n",
       "      <td>498</td>\n",
       "      <td>2018-12-01 00:14:41.7250</td>\n",
       "      <td>2018-12-01 00:23:00.4080</td>\n",
       "      <td>7.0</td>\n",
       "      <td>Frank H Ogawa Plaza</td>\n",
       "      <td>37.804562</td>\n",
       "      <td>-122.271738</td>\n",
       "      <td>214.0</td>\n",
       "      <td>Market St at Brockhurst St</td>\n",
       "      <td>37.823321</td>\n",
       "      <td>-122.275732</td>\n",
       "      <td>2236</td>\n",
       "      <td>Subscriber</td>\n",
       "      <td>1992.0</td>\n",
       "      <td>Male</td>\n",
       "      <td>No</td>\n",
       "    </tr>\n",
       "    <tr>\n",
       "      <th>131357</th>\n",
       "      <td>1137</td>\n",
       "      <td>2018-12-01 00:01:49.6930</td>\n",
       "      <td>2018-12-01 00:20:47.5190</td>\n",
       "      <td>73.0</td>\n",
       "      <td>Pierce St at Haight St</td>\n",
       "      <td>37.771793</td>\n",
       "      <td>-122.433708</td>\n",
       "      <td>50.0</td>\n",
       "      <td>2nd St at Townsend St</td>\n",
       "      <td>37.780526</td>\n",
       "      <td>-122.390288</td>\n",
       "      <td>273</td>\n",
       "      <td>Subscriber</td>\n",
       "      <td>1990.0</td>\n",
       "      <td>Male</td>\n",
       "      <td>No</td>\n",
       "    </tr>\n",
       "    <tr>\n",
       "      <th>131358</th>\n",
       "      <td>473</td>\n",
       "      <td>2018-12-01 00:11:54.8110</td>\n",
       "      <td>2018-12-01 00:19:48.5470</td>\n",
       "      <td>345.0</td>\n",
       "      <td>Hubbell St at 16th St</td>\n",
       "      <td>37.766474</td>\n",
       "      <td>-122.398295</td>\n",
       "      <td>81.0</td>\n",
       "      <td>Berry St at 4th St</td>\n",
       "      <td>37.775880</td>\n",
       "      <td>-122.393170</td>\n",
       "      <td>3035</td>\n",
       "      <td>Subscriber</td>\n",
       "      <td>1982.0</td>\n",
       "      <td>Female</td>\n",
       "      <td>No</td>\n",
       "    </tr>\n",
       "    <tr>\n",
       "      <th>131359</th>\n",
       "      <td>841</td>\n",
       "      <td>2018-12-01 00:02:48.7260</td>\n",
       "      <td>2018-12-01 00:16:49.7660</td>\n",
       "      <td>10.0</td>\n",
       "      <td>Washington St at Kearny St</td>\n",
       "      <td>37.795393</td>\n",
       "      <td>-122.404770</td>\n",
       "      <td>58.0</td>\n",
       "      <td>Market St at 10th St</td>\n",
       "      <td>37.776619</td>\n",
       "      <td>-122.417385</td>\n",
       "      <td>2034</td>\n",
       "      <td>Subscriber</td>\n",
       "      <td>1999.0</td>\n",
       "      <td>Female</td>\n",
       "      <td>No</td>\n",
       "    </tr>\n",
       "    <tr>\n",
       "      <th>131360</th>\n",
       "      <td>260</td>\n",
       "      <td>2018-12-01 00:05:27.6150</td>\n",
       "      <td>2018-12-01 00:09:47.9560</td>\n",
       "      <td>245.0</td>\n",
       "      <td>Downtown Berkeley BART</td>\n",
       "      <td>37.870139</td>\n",
       "      <td>-122.268422</td>\n",
       "      <td>255.0</td>\n",
       "      <td>Virginia St at Shattuck Ave</td>\n",
       "      <td>37.876573</td>\n",
       "      <td>-122.269528</td>\n",
       "      <td>2243</td>\n",
       "      <td>Subscriber</td>\n",
       "      <td>1991.0</td>\n",
       "      <td>Male</td>\n",
       "      <td>No</td>\n",
       "    </tr>\n",
       "    <tr>\n",
       "      <th>131361</th>\n",
       "      <td>292</td>\n",
       "      <td>2018-12-01 00:03:06.5490</td>\n",
       "      <td>2018-12-01 00:07:59.0800</td>\n",
       "      <td>93.0</td>\n",
       "      <td>4th St at Mission Bay Blvd S</td>\n",
       "      <td>37.770407</td>\n",
       "      <td>-122.391198</td>\n",
       "      <td>126.0</td>\n",
       "      <td>Esprit Park</td>\n",
       "      <td>37.761634</td>\n",
       "      <td>-122.390648</td>\n",
       "      <td>545</td>\n",
       "      <td>Subscriber</td>\n",
       "      <td>1963.0</td>\n",
       "      <td>Male</td>\n",
       "      <td>No</td>\n",
       "    </tr>\n",
       "    <tr>\n",
       "      <th>131362</th>\n",
       "      <td>150</td>\n",
       "      <td>2018-12-01 00:03:05.7420</td>\n",
       "      <td>2018-12-01 00:05:36.0260</td>\n",
       "      <td>107.0</td>\n",
       "      <td>17th St at Dolores St</td>\n",
       "      <td>37.763015</td>\n",
       "      <td>-122.426497</td>\n",
       "      <td>119.0</td>\n",
       "      <td>18th St at Noe St</td>\n",
       "      <td>37.761047</td>\n",
       "      <td>-122.432642</td>\n",
       "      <td>4319</td>\n",
       "      <td>Subscriber</td>\n",
       "      <td>NaN</td>\n",
       "      <td>NaN</td>\n",
       "      <td>No</td>\n",
       "    </tr>\n",
       "  </tbody>\n",
       "</table>\n",
       "<p>1863721 rows × 16 columns</p>\n",
       "</div>"
      ],
      "text/plain": [
       "        duration_sec                start_time                  end_time  \\\n",
       "0              75284  2018-01-31 22:52:35.2390  2018-02-01 19:47:19.8240   \n",
       "1              85422  2018-01-31 16:13:34.3510  2018-02-01 15:57:17.3100   \n",
       "2              71576  2018-01-31 14:23:55.8890  2018-02-01 10:16:52.1160   \n",
       "3              61076  2018-01-31 14:53:23.5620  2018-02-01 07:51:20.5000   \n",
       "4              39966  2018-01-31 19:52:24.6670  2018-02-01 06:58:31.0530   \n",
       "5               6477  2018-01-31 22:58:44.8670  2018-02-01 00:46:41.9080   \n",
       "6                453  2018-01-31 23:53:53.6320  2018-02-01 00:01:26.8050   \n",
       "7                180  2018-01-31 23:52:09.9030  2018-01-31 23:55:10.8070   \n",
       "8                996  2018-01-31 23:34:56.0040  2018-01-31 23:51:32.6740   \n",
       "9                825  2018-01-31 23:34:14.0270  2018-01-31 23:47:59.8090   \n",
       "10              1316  2018-01-31 23:24:00.4160  2018-01-31 23:45:56.8240   \n",
       "11               432  2018-01-31 23:34:26.4840  2018-01-31 23:41:39.2970   \n",
       "12               601  2018-01-31 23:29:46.8320  2018-01-31 23:39:48.0000   \n",
       "13               887  2018-01-31 23:24:16.3570  2018-01-31 23:39:04.1230   \n",
       "14               210  2018-01-31 23:33:03.0460  2018-01-31 23:36:33.7040   \n",
       "15               188  2018-01-31 23:30:58.1360  2018-01-31 23:34:06.3910   \n",
       "16               808  2018-01-31 23:19:58.6030  2018-01-31 23:33:27.5310   \n",
       "17               378  2018-01-31 23:23:23.0680  2018-01-31 23:29:42.0440   \n",
       "18               350  2018-01-31 23:13:45.5290  2018-01-31 23:19:36.2650   \n",
       "19               686  2018-01-31 23:07:15.3130  2018-01-31 23:18:41.5580   \n",
       "20               450  2018-01-31 23:07:13.0630  2018-01-31 23:14:43.8140   \n",
       "21               294  2018-01-31 23:08:12.0000  2018-01-31 23:13:06.6360   \n",
       "22               150  2018-01-31 23:10:09.5860  2018-01-31 23:12:40.3330   \n",
       "23               462  2018-01-31 23:03:48.9400  2018-01-31 23:11:31.0290   \n",
       "24               379  2018-01-31 23:04:27.7010  2018-01-31 23:10:46.9760   \n",
       "25               880  2018-01-31 22:53:41.3020  2018-01-31 23:08:21.4430   \n",
       "26              1210  2018-01-31 22:45:37.1250  2018-01-31 23:05:47.5760   \n",
       "27               259  2018-01-31 23:01:12.7920  2018-01-31 23:05:32.1570   \n",
       "28               592  2018-01-31 22:53:27.7790  2018-01-31 23:03:20.2900   \n",
       "29              1059  2018-01-31 22:45:16.5700  2018-01-31 23:02:56.2850   \n",
       "...              ...                       ...                       ...   \n",
       "131333           310  2018-12-01 00:45:44.8680  2018-12-01 00:50:55.7970   \n",
       "131334          1338  2018-12-01 00:27:24.8750  2018-12-01 00:49:43.3490   \n",
       "131335           154  2018-12-01 00:44:24.8380  2018-12-01 00:46:59.3350   \n",
       "131336           862  2018-12-01 00:32:11.0630  2018-12-01 00:46:33.7900   \n",
       "131337          1310  2018-12-01 00:23:53.3420  2018-12-01 00:45:43.5880   \n",
       "131338           230  2018-12-01 00:41:31.9550  2018-12-01 00:45:22.4160   \n",
       "131339          2071  2018-12-01 00:09:55.5800  2018-12-01 00:44:26.6290   \n",
       "131340          1958  2018-12-01 00:11:35.0220  2018-12-01 00:44:13.6320   \n",
       "131341           268  2018-12-01 00:37:23.1340  2018-12-01 00:41:51.9670   \n",
       "131342          1679  2018-12-01 00:13:35.1430  2018-12-01 00:41:34.8600   \n",
       "131343          1658  2018-12-01 00:13:33.1240  2018-12-01 00:41:11.7630   \n",
       "131344           293  2018-12-01 00:36:01.5250  2018-12-01 00:40:55.2850   \n",
       "131345           426  2018-12-01 00:32:13.1250  2018-12-01 00:39:19.8710   \n",
       "131346           447  2018-12-01 00:31:36.1480  2018-12-01 00:39:03.3910   \n",
       "131347          1694  2018-12-01 00:09:17.1590  2018-12-01 00:37:31.2400   \n",
       "131348           269  2018-12-01 00:31:00.0910  2018-12-01 00:35:29.8710   \n",
       "131349           685  2018-12-01 00:21:16.2400  2018-12-01 00:32:42.0000   \n",
       "131350           681  2018-12-01 00:19:41.3830  2018-12-01 00:31:02.6050   \n",
       "131351          1166  2018-12-01 00:11:04.8640  2018-12-01 00:30:31.3480   \n",
       "131352           763  2018-12-01 00:17:34.4970  2018-12-01 00:30:18.1070   \n",
       "131353           760  2018-12-01 00:17:29.9600  2018-12-01 00:30:10.1780   \n",
       "131354           538  2018-12-01 00:16:34.0850  2018-12-01 00:25:32.4550   \n",
       "131355           671  2018-12-01 00:12:49.6400  2018-12-01 00:24:01.5120   \n",
       "131356           498  2018-12-01 00:14:41.7250  2018-12-01 00:23:00.4080   \n",
       "131357          1137  2018-12-01 00:01:49.6930  2018-12-01 00:20:47.5190   \n",
       "131358           473  2018-12-01 00:11:54.8110  2018-12-01 00:19:48.5470   \n",
       "131359           841  2018-12-01 00:02:48.7260  2018-12-01 00:16:49.7660   \n",
       "131360           260  2018-12-01 00:05:27.6150  2018-12-01 00:09:47.9560   \n",
       "131361           292  2018-12-01 00:03:06.5490  2018-12-01 00:07:59.0800   \n",
       "131362           150  2018-12-01 00:03:05.7420  2018-12-01 00:05:36.0260   \n",
       "\n",
       "        start_station_id                                 start_station_name  \\\n",
       "0                  120.0                               Mission Dolores Park   \n",
       "1                   15.0  San Francisco Ferry Building (Harry Bridges Pl...   \n",
       "2                  304.0                               Jackson St at 5th St   \n",
       "3                   75.0                           Market St at Franklin St   \n",
       "4                   74.0                              Laguna St at Hayes St   \n",
       "5                  236.0                                Market St at 8th St   \n",
       "6                  110.0   17th & Folsom Street Park (17th St at Folsom St)   \n",
       "7                   81.0                                 Berry St at 4th St   \n",
       "8                  134.0                             Valencia St at 24th St   \n",
       "9                  305.0                                        Ryland Park   \n",
       "10                  98.0                             Valencia St at 16th St   \n",
       "11                  89.0                         Division St at Potrero Ave   \n",
       "12                 223.0                     16th St Mission BART Station 2   \n",
       "13                 308.0                                   San Pedro Square   \n",
       "14                   7.0                                Frank H Ogawa Plaza   \n",
       "15                  98.0                             Valencia St at 16th St   \n",
       "16                  67.0  San Francisco Caltrain Station 2  (Townsend St...   \n",
       "17                  80.0                              Townsend St at 5th St   \n",
       "18                 247.0                          Fulton St at Bancroft Way   \n",
       "19                 312.0                           San Jose Diridon Station   \n",
       "20                 241.0                                 Ashby BART Station   \n",
       "21                 239.0                      Bancroft Way at Telegraph Ave   \n",
       "22                 182.0                           19th Street BART Station   \n",
       "23                 119.0                                  18th St at Noe St   \n",
       "24                 176.0                             MacArthur BART Station   \n",
       "25                 123.0                               Folsom St at 19th St   \n",
       "26                 285.0                         Webster St at O'Farrell St   \n",
       "27                 239.0                      Bancroft Way at Telegraph Ave   \n",
       "28                 202.0                            Washington St at 8th St   \n",
       "29                 141.0                     Valencia St at Cesar Chavez St   \n",
       "...                  ...                                                ...   \n",
       "131333             252.0                       Channing Way at Shattuck Ave   \n",
       "131334             371.0                         Lombard St at Columbus Ave   \n",
       "131335              70.0                             Central Ave at Fell St   \n",
       "131336               4.0                        Cyril Magnin St at Ellis St   \n",
       "131337              85.0                            Church St at Duboce Ave   \n",
       "131338             312.0                           San Jose Diridon Station   \n",
       "131339              36.0                                Folsom St at 3rd St   \n",
       "131340              44.0  Civic Center/UN Plaza BART Station (Market St ...   \n",
       "131341             147.0                             29th St at Tiffany Ave   \n",
       "131342             240.0                          Haste St at Telegraph Ave   \n",
       "131343             240.0                          Haste St at Telegraph Ave   \n",
       "131344              95.0                              Sanchez St at 15th St   \n",
       "131345              50.0                              2nd St at Townsend St   \n",
       "131346             368.0                               Myrtle St at Polk St   \n",
       "131347              14.0                              Clay St at Battery St   \n",
       "131348              98.0                             Valencia St at 16th St   \n",
       "131349             109.0                             17th St at Valencia St   \n",
       "131350              15.0  San Francisco Ferry Building (Harry Bridges Pl...   \n",
       "131351             160.0                          West Oakland BART Station   \n",
       "131352              73.0                             Pierce St at Haight St   \n",
       "131353              73.0                             Pierce St at Haight St   \n",
       "131354               5.0       Powell St BART Station (Market St at 5th St)   \n",
       "131355              34.0                     Father Alfred E Boeddeker Park   \n",
       "131356               7.0                                Frank H Ogawa Plaza   \n",
       "131357              73.0                             Pierce St at Haight St   \n",
       "131358             345.0                              Hubbell St at 16th St   \n",
       "131359              10.0                         Washington St at Kearny St   \n",
       "131360             245.0                             Downtown Berkeley BART   \n",
       "131361              93.0                       4th St at Mission Bay Blvd S   \n",
       "131362             107.0                              17th St at Dolores St   \n",
       "\n",
       "        start_station_latitude  start_station_longitude  end_station_id  \\\n",
       "0                    37.761420              -122.426435           285.0   \n",
       "1                    37.795392              -122.394203            15.0   \n",
       "2                    37.348759              -121.894798           296.0   \n",
       "3                    37.773793              -122.421239            47.0   \n",
       "4                    37.776435              -122.426244            19.0   \n",
       "5                    37.803686              -122.282497           160.0   \n",
       "6                    37.763708              -122.415204           134.0   \n",
       "7                    37.775880              -122.393170            93.0   \n",
       "8                    37.752428              -122.420628             4.0   \n",
       "9                    37.342725              -121.895617           317.0   \n",
       "10                   37.765052              -122.421866             4.0   \n",
       "11                   37.769218              -122.407646            43.0   \n",
       "12                   37.764765              -122.420091            86.0   \n",
       "13                   37.336802              -121.894090           297.0   \n",
       "14                   37.804562              -122.271738           186.0   \n",
       "15                   37.765052              -122.421866            76.0   \n",
       "16                   37.776639              -122.395526            98.0   \n",
       "17                   37.775306              -122.397380            78.0   \n",
       "18                   37.867789              -122.265896           274.0   \n",
       "19                   37.329732              -121.901782           317.0   \n",
       "20                   37.852477              -122.270213           157.0   \n",
       "21                   37.868813              -122.258764           244.0   \n",
       "22                   37.809013              -122.268247           183.0   \n",
       "23                   37.761047              -122.432642           134.0   \n",
       "24                   37.828410              -122.266315           189.0   \n",
       "25                   37.760594              -122.414817           145.0   \n",
       "26                   37.783521              -122.431158           133.0   \n",
       "27                   37.868813              -122.258764           266.0   \n",
       "28                   37.800754              -122.274894           195.0   \n",
       "29                   37.747998              -122.420219            79.0   \n",
       "...                        ...                      ...             ...   \n",
       "131333               37.865847              -122.267443           238.0   \n",
       "131334               37.802746              -122.413579           104.0   \n",
       "131335               37.773311              -122.444293            52.0   \n",
       "131336               37.785881              -122.408915            86.0   \n",
       "131337               37.770083              -122.429156            13.0   \n",
       "131338               37.329732              -121.901782           314.0   \n",
       "131339               37.783830              -122.398870            97.0   \n",
       "131340               37.781074              -122.411738             5.0   \n",
       "131341               37.744067              -122.421472           121.0   \n",
       "131342               37.866043              -122.258804           245.0   \n",
       "131343               37.866043              -122.258804           245.0   \n",
       "131344               37.766219              -122.431060            72.0   \n",
       "131345               37.780526              -122.390288            21.0   \n",
       "131346               37.785434              -122.419622            17.0   \n",
       "131347               37.795001              -122.399970           147.0   \n",
       "131348               37.765052              -122.421866           121.0   \n",
       "131349               37.763316              -122.421904            60.0   \n",
       "131350               37.795392              -122.394203           323.0   \n",
       "131351               37.805318              -122.294837           155.0   \n",
       "131352               37.771793              -122.433708           121.0   \n",
       "131353               37.771793              -122.433708           121.0   \n",
       "131354               37.783899              -122.408445            39.0   \n",
       "131355               37.783988              -122.412408            92.0   \n",
       "131356               37.804562              -122.271738           214.0   \n",
       "131357               37.771793              -122.433708            50.0   \n",
       "131358               37.766474              -122.398295            81.0   \n",
       "131359               37.795393              -122.404770            58.0   \n",
       "131360               37.870139              -122.268422           255.0   \n",
       "131361               37.770407              -122.391198           126.0   \n",
       "131362               37.763015              -122.426497           119.0   \n",
       "\n",
       "                                         end_station_name  \\\n",
       "0                              Webster St at O'Farrell St   \n",
       "1       San Francisco Ferry Building (Harry Bridges Pl...   \n",
       "2                                   5th St at Virginia St   \n",
       "3                                   4th St at Harrison St   \n",
       "4                                    Post St at Kearny St   \n",
       "5                               West Oakland BART Station   \n",
       "6                                  Valencia St at 24th St   \n",
       "7                            4th St at Mission Bay Blvd S   \n",
       "8                             Cyril Magnin St at Ellis St   \n",
       "9                               San Salvador St at 9th St   \n",
       "10                            Cyril Magnin St at Ellis St   \n",
       "11      San Francisco Public Library (Grove St at Hyde...   \n",
       "12                                Market St at Dolores St   \n",
       "13                                  Locust St at Grant St   \n",
       "14                                 Lakeside Dr at 14th St   \n",
       "15                             McCoppin St at Valencia St   \n",
       "16                                 Valencia St at 16th St   \n",
       "17                                    Folsom St at 9th St   \n",
       "18                                Oregon St at Adeline St   \n",
       "19                              San Salvador St at 9th St   \n",
       "20                                   65th St at Hollis St   \n",
       "21                             Shattuck Ave at Hearst Ave   \n",
       "22                               Telegraph Ave at 19th St   \n",
       "23                                 Valencia St at 24th St   \n",
       "24                                    Genoa St at 55th St   \n",
       "25                                   29th St at Church St   \n",
       "26                                 Valencia St at 22nd St   \n",
       "27                                 Parker St at Fulton St   \n",
       "28                                    Bay Pl at Vernon St   \n",
       "29                                   7th St at Brannan St   \n",
       "...                                                   ...   \n",
       "131333                       MLK Jr Way at University Ave   \n",
       "131334                                  4th St at 16th St   \n",
       "131335                          McAllister St at Baker St   \n",
       "131336                            Market St at Dolores St   \n",
       "131337                     Commercial St at Montgomery St   \n",
       "131338                     Santa Clara St at Almaden Blvd   \n",
       "131339                              14th St at Mission St   \n",
       "131340       Powell St BART Station (Market St at 5th St)   \n",
       "131341                                 Mission Playground   \n",
       "131342                             Downtown Berkeley BART   \n",
       "131343                             Downtown Berkeley BART   \n",
       "131344                                Page St at Scott St   \n",
       "131345   Montgomery St BART Station (Market St at 2nd St)   \n",
       "131346   Embarcadero BART Station (Beale St at Market St)   \n",
       "131347                             29th St at Tiffany Ave   \n",
       "131348                                 Mission Playground   \n",
       "131349                               8th St at Ringold St   \n",
       "131350                                 Broadway at Kearny   \n",
       "131351                           Emeryville Public Market   \n",
       "131352                                 Mission Playground   \n",
       "131353                                 Mission Playground   \n",
       "131354                        Scott St at Golden Gate Ave   \n",
       "131355                              Mission Bay Kids Park   \n",
       "131356                         Market St at Brockhurst St   \n",
       "131357                              2nd St at Townsend St   \n",
       "131358                                 Berry St at 4th St   \n",
       "131359                               Market St at 10th St   \n",
       "131360                        Virginia St at Shattuck Ave   \n",
       "131361                                        Esprit Park   \n",
       "131362                                  18th St at Noe St   \n",
       "\n",
       "        end_station_latitude  end_station_longitude  bike_id   user_type  \\\n",
       "0                  37.783521            -122.431158     2765  Subscriber   \n",
       "1                  37.795392            -122.394203     2815    Customer   \n",
       "2                  37.325998            -121.877120     3039    Customer   \n",
       "3                  37.780955            -122.399749      321    Customer   \n",
       "4                  37.788975            -122.403452      617  Subscriber   \n",
       "5                  37.805318            -122.294837     1306    Customer   \n",
       "6                  37.752428            -122.420628     3571  Subscriber   \n",
       "7                  37.770407            -122.391198     1403  Subscriber   \n",
       "8                  37.785881            -122.408915     3675  Subscriber   \n",
       "9                  37.333955            -121.877349     1453  Subscriber   \n",
       "10                 37.785881            -122.408915     1278    Customer   \n",
       "11                 37.778768            -122.415929     2928  Subscriber   \n",
       "12                 37.769305            -122.426826     3016  Subscriber   \n",
       "13                 37.322980            -121.887931       55  Subscriber   \n",
       "14                 37.801319            -122.262642     2602  Subscriber   \n",
       "15                 37.771662            -122.422423     2556  Subscriber   \n",
       "16                 37.765052            -122.421866     3041  Subscriber   \n",
       "17                 37.773717            -122.411647      546  Subscriber   \n",
       "18                 37.857567            -122.267558      431  Subscriber   \n",
       "19                 37.333955            -121.877349     1886  Subscriber   \n",
       "20                 37.846784            -122.291376     3583  Subscriber   \n",
       "21                 37.873792            -122.268618     2144  Subscriber   \n",
       "22                 37.808702            -122.269927     3468  Subscriber   \n",
       "23                 37.752428            -122.420628     1432  Subscriber   \n",
       "24                 37.839649            -122.271756      997  Subscriber   \n",
       "25                 37.743684            -122.426806     3725  Subscriber   \n",
       "26                 37.755213            -122.420975     1059  Subscriber   \n",
       "27                 37.862464            -122.264791     1208  Subscriber   \n",
       "28                 37.812314            -122.260779     1834    Customer   \n",
       "29                 37.773492            -122.403673     1248  Subscriber   \n",
       "...                      ...                    ...      ...         ...   \n",
       "131333             37.871719            -122.273068      367  Subscriber   \n",
       "131334             37.767045            -122.390833     1985  Subscriber   \n",
       "131335             37.777416            -122.441838      449  Subscriber   \n",
       "131336             37.769305            -122.426826     4408    Customer   \n",
       "131337             37.794231            -122.402923     1525  Subscriber   \n",
       "131338             37.333988            -121.894902     1379  Subscriber   \n",
       "131339             37.768265            -122.420110      316    Customer   \n",
       "131340             37.783899            -122.408445     4395  Subscriber   \n",
       "131341             37.759210            -122.421339     4451  Subscriber   \n",
       "131342             37.870139            -122.268422     3701    Customer   \n",
       "131343             37.870139            -122.268422     3625    Customer   \n",
       "131344             37.772406            -122.435650     1043  Subscriber   \n",
       "131345             37.789625            -122.400811     3154  Subscriber   \n",
       "131346             37.792251            -122.397086     1677  Subscriber   \n",
       "131347             37.744067            -122.421472      209  Subscriber   \n",
       "131348             37.759210            -122.421339     3147  Subscriber   \n",
       "131349             37.774520            -122.409449     3247  Subscriber   \n",
       "131350             37.798014            -122.405950     3460  Subscriber   \n",
       "131351             37.840521            -122.293528     1579  Subscriber   \n",
       "131352             37.759210            -122.421339       90  Subscriber   \n",
       "131353             37.759210            -122.421339     2758  Subscriber   \n",
       "131354             37.778999            -122.436861     4384  Subscriber   \n",
       "131355             37.772301            -122.393028     4377  Subscriber   \n",
       "131356             37.823321            -122.275732     2236  Subscriber   \n",
       "131357             37.780526            -122.390288      273  Subscriber   \n",
       "131358             37.775880            -122.393170     3035  Subscriber   \n",
       "131359             37.776619            -122.417385     2034  Subscriber   \n",
       "131360             37.876573            -122.269528     2243  Subscriber   \n",
       "131361             37.761634            -122.390648      545  Subscriber   \n",
       "131362             37.761047            -122.432642     4319  Subscriber   \n",
       "\n",
       "        member_birth_year member_gender bike_share_for_all_trip  \n",
       "0                  1986.0          Male                      No  \n",
       "1                     NaN           NaN                      No  \n",
       "2                  1996.0          Male                      No  \n",
       "3                     NaN           NaN                      No  \n",
       "4                  1991.0          Male                      No  \n",
       "5                     NaN           NaN                      No  \n",
       "6                  1988.0          Male                      No  \n",
       "7                  1980.0          Male                      No  \n",
       "8                  1987.0          Male                     Yes  \n",
       "9                  1994.0        Female                     Yes  \n",
       "10                    NaN           NaN                      No  \n",
       "11                 1993.0          Male                      No  \n",
       "12                 1957.0          Male                      No  \n",
       "13                 1976.0        Female                     Yes  \n",
       "14                 1976.0          Male                      No  \n",
       "15                 1964.0        Female                      No  \n",
       "16                 1976.0          Male                     Yes  \n",
       "17                 1995.0        Female                      No  \n",
       "18                    NaN           NaN                      No  \n",
       "19                 1997.0        Female                      No  \n",
       "20                 1994.0          Male                      No  \n",
       "21                 1983.0          Male                      No  \n",
       "22                 1945.0          Male                     Yes  \n",
       "23                 1971.0          Male                     Yes  \n",
       "24                 1975.0          Male                      No  \n",
       "25                 1986.0          Male                      No  \n",
       "26                 1991.0          Male                      No  \n",
       "27                 1994.0          Male                      No  \n",
       "28                 1978.0          Male                      No  \n",
       "29                 1988.0          Male                      No  \n",
       "...                   ...           ...                     ...  \n",
       "131333             1991.0          Male                      No  \n",
       "131334             1986.0          Male                      No  \n",
       "131335             1994.0          Male                      No  \n",
       "131336             1975.0          Male                      No  \n",
       "131337             1994.0          Male                     Yes  \n",
       "131338             1957.0          Male                      No  \n",
       "131339             1991.0          Male                      No  \n",
       "131340             1993.0          Male                      No  \n",
       "131341             1989.0          Male                      No  \n",
       "131342             1998.0        Female                      No  \n",
       "131343             1998.0        Female                      No  \n",
       "131344             1981.0          Male                      No  \n",
       "131345             1986.0          Male                      No  \n",
       "131346             1980.0         Other                     Yes  \n",
       "131347             1993.0          Male                      No  \n",
       "131348             1993.0          Male                      No  \n",
       "131349             1987.0        Female                      No  \n",
       "131350             1959.0          Male                      No  \n",
       "131351             1997.0          Male                      No  \n",
       "131352             1991.0        Female                      No  \n",
       "131353             1991.0          Male                      No  \n",
       "131354             1991.0          Male                      No  \n",
       "131355             1972.0          Male                     Yes  \n",
       "131356             1992.0          Male                      No  \n",
       "131357             1990.0          Male                      No  \n",
       "131358             1982.0        Female                      No  \n",
       "131359             1999.0        Female                      No  \n",
       "131360             1991.0          Male                      No  \n",
       "131361             1963.0          Male                      No  \n",
       "131362                NaN           NaN                      No  \n",
       "\n",
       "[1863721 rows x 16 columns]"
      ]
     },
     "execution_count": 4,
     "metadata": {},
     "output_type": "execute_result"
    }
   ],
   "source": [
    "# visual veiw of dataset\n",
    "df"
   ]
  },
  {
   "cell_type": "code",
   "execution_count": 5,
   "metadata": {
    "slideshow": {
     "slide_type": "skip"
    }
   },
   "outputs": [
    {
     "data": {
      "text/html": [
       "<div>\n",
       "<style scoped>\n",
       "    .dataframe tbody tr th:only-of-type {\n",
       "        vertical-align: middle;\n",
       "    }\n",
       "\n",
       "    .dataframe tbody tr th {\n",
       "        vertical-align: top;\n",
       "    }\n",
       "\n",
       "    .dataframe thead th {\n",
       "        text-align: right;\n",
       "    }\n",
       "</style>\n",
       "<table border=\"1\" class=\"dataframe\">\n",
       "  <thead>\n",
       "    <tr style=\"text-align: right;\">\n",
       "      <th></th>\n",
       "      <th>duration_sec</th>\n",
       "      <th>start_station_id</th>\n",
       "      <th>start_station_latitude</th>\n",
       "      <th>start_station_longitude</th>\n",
       "      <th>end_station_id</th>\n",
       "      <th>end_station_latitude</th>\n",
       "      <th>end_station_longitude</th>\n",
       "      <th>bike_id</th>\n",
       "      <th>member_birth_year</th>\n",
       "    </tr>\n",
       "  </thead>\n",
       "  <tbody>\n",
       "    <tr>\n",
       "      <th>count</th>\n",
       "      <td>1.863721e+06</td>\n",
       "      <td>1.851950e+06</td>\n",
       "      <td>1.863721e+06</td>\n",
       "      <td>1.863721e+06</td>\n",
       "      <td>1.851950e+06</td>\n",
       "      <td>1.863721e+06</td>\n",
       "      <td>1.863721e+06</td>\n",
       "      <td>1.863721e+06</td>\n",
       "      <td>1.753003e+06</td>\n",
       "    </tr>\n",
       "    <tr>\n",
       "      <th>mean</th>\n",
       "      <td>8.573026e+02</td>\n",
       "      <td>1.196744e+02</td>\n",
       "      <td>3.776678e+01</td>\n",
       "      <td>-1.223492e+02</td>\n",
       "      <td>1.181730e+02</td>\n",
       "      <td>3.776690e+01</td>\n",
       "      <td>-1.223487e+02</td>\n",
       "      <td>2.296851e+03</td>\n",
       "      <td>1.983088e+03</td>\n",
       "    </tr>\n",
       "    <tr>\n",
       "      <th>std</th>\n",
       "      <td>2.370379e+03</td>\n",
       "      <td>1.003976e+02</td>\n",
       "      <td>1.057689e-01</td>\n",
       "      <td>1.654634e-01</td>\n",
       "      <td>1.004403e+02</td>\n",
       "      <td>1.056483e-01</td>\n",
       "      <td>1.650597e-01</td>\n",
       "      <td>1.287733e+03</td>\n",
       "      <td>1.044289e+01</td>\n",
       "    </tr>\n",
       "    <tr>\n",
       "      <th>min</th>\n",
       "      <td>6.100000e+01</td>\n",
       "      <td>3.000000e+00</td>\n",
       "      <td>3.726331e+01</td>\n",
       "      <td>-1.224737e+02</td>\n",
       "      <td>3.000000e+00</td>\n",
       "      <td>3.726331e+01</td>\n",
       "      <td>-1.224737e+02</td>\n",
       "      <td>1.100000e+01</td>\n",
       "      <td>1.881000e+03</td>\n",
       "    </tr>\n",
       "    <tr>\n",
       "      <th>25%</th>\n",
       "      <td>3.500000e+02</td>\n",
       "      <td>3.300000e+01</td>\n",
       "      <td>3.777106e+01</td>\n",
       "      <td>-1.224114e+02</td>\n",
       "      <td>3.000000e+01</td>\n",
       "      <td>3.777106e+01</td>\n",
       "      <td>-1.224094e+02</td>\n",
       "      <td>1.225000e+03</td>\n",
       "      <td>1.978000e+03</td>\n",
       "    </tr>\n",
       "    <tr>\n",
       "      <th>50%</th>\n",
       "      <td>5.560000e+02</td>\n",
       "      <td>8.900000e+01</td>\n",
       "      <td>3.778107e+01</td>\n",
       "      <td>-1.223974e+02</td>\n",
       "      <td>8.800000e+01</td>\n",
       "      <td>3.778127e+01</td>\n",
       "      <td>-1.223971e+02</td>\n",
       "      <td>2.338000e+03</td>\n",
       "      <td>1.985000e+03</td>\n",
       "    </tr>\n",
       "    <tr>\n",
       "      <th>75%</th>\n",
       "      <td>8.720000e+02</td>\n",
       "      <td>1.860000e+02</td>\n",
       "      <td>3.779625e+01</td>\n",
       "      <td>-1.222865e+02</td>\n",
       "      <td>1.830000e+02</td>\n",
       "      <td>3.779728e+01</td>\n",
       "      <td>-1.222894e+02</td>\n",
       "      <td>3.333000e+03</td>\n",
       "      <td>1.991000e+03</td>\n",
       "    </tr>\n",
       "    <tr>\n",
       "      <th>max</th>\n",
       "      <td>8.636600e+04</td>\n",
       "      <td>3.810000e+02</td>\n",
       "      <td>4.551000e+01</td>\n",
       "      <td>-7.357000e+01</td>\n",
       "      <td>3.810000e+02</td>\n",
       "      <td>4.551000e+01</td>\n",
       "      <td>-7.357000e+01</td>\n",
       "      <td>6.234000e+03</td>\n",
       "      <td>2.000000e+03</td>\n",
       "    </tr>\n",
       "  </tbody>\n",
       "</table>\n",
       "</div>"
      ],
      "text/plain": [
       "       duration_sec  start_station_id  start_station_latitude  \\\n",
       "count  1.863721e+06      1.851950e+06            1.863721e+06   \n",
       "mean   8.573026e+02      1.196744e+02            3.776678e+01   \n",
       "std    2.370379e+03      1.003976e+02            1.057689e-01   \n",
       "min    6.100000e+01      3.000000e+00            3.726331e+01   \n",
       "25%    3.500000e+02      3.300000e+01            3.777106e+01   \n",
       "50%    5.560000e+02      8.900000e+01            3.778107e+01   \n",
       "75%    8.720000e+02      1.860000e+02            3.779625e+01   \n",
       "max    8.636600e+04      3.810000e+02            4.551000e+01   \n",
       "\n",
       "       start_station_longitude  end_station_id  end_station_latitude  \\\n",
       "count             1.863721e+06    1.851950e+06          1.863721e+06   \n",
       "mean             -1.223492e+02    1.181730e+02          3.776690e+01   \n",
       "std               1.654634e-01    1.004403e+02          1.056483e-01   \n",
       "min              -1.224737e+02    3.000000e+00          3.726331e+01   \n",
       "25%              -1.224114e+02    3.000000e+01          3.777106e+01   \n",
       "50%              -1.223974e+02    8.800000e+01          3.778127e+01   \n",
       "75%              -1.222865e+02    1.830000e+02          3.779728e+01   \n",
       "max              -7.357000e+01    3.810000e+02          4.551000e+01   \n",
       "\n",
       "       end_station_longitude       bike_id  member_birth_year  \n",
       "count           1.863721e+06  1.863721e+06       1.753003e+06  \n",
       "mean           -1.223487e+02  2.296851e+03       1.983088e+03  \n",
       "std             1.650597e-01  1.287733e+03       1.044289e+01  \n",
       "min            -1.224737e+02  1.100000e+01       1.881000e+03  \n",
       "25%            -1.224094e+02  1.225000e+03       1.978000e+03  \n",
       "50%            -1.223971e+02  2.338000e+03       1.985000e+03  \n",
       "75%            -1.222894e+02  3.333000e+03       1.991000e+03  \n",
       "max            -7.357000e+01  6.234000e+03       2.000000e+03  "
      ]
     },
     "execution_count": 5,
     "metadata": {},
     "output_type": "execute_result"
    }
   ],
   "source": [
    "df.describe()"
   ]
  },
  {
   "cell_type": "code",
   "execution_count": 6,
   "metadata": {
    "slideshow": {
     "slide_type": "skip"
    }
   },
   "outputs": [
    {
     "name": "stdout",
     "output_type": "stream",
     "text": [
      "<class 'pandas.core.frame.DataFrame'>\n",
      "Int64Index: 1863721 entries, 0 to 131362\n",
      "Data columns (total 16 columns):\n",
      "duration_sec               int64\n",
      "start_time                 object\n",
      "end_time                   object\n",
      "start_station_id           float64\n",
      "start_station_name         object\n",
      "start_station_latitude     float64\n",
      "start_station_longitude    float64\n",
      "end_station_id             float64\n",
      "end_station_name           object\n",
      "end_station_latitude       float64\n",
      "end_station_longitude      float64\n",
      "bike_id                    int64\n",
      "user_type                  object\n",
      "member_birth_year          float64\n",
      "member_gender              object\n",
      "bike_share_for_all_trip    object\n",
      "dtypes: float64(7), int64(2), object(7)\n",
      "memory usage: 241.7+ MB\n"
     ]
    }
   ],
   "source": [
    "df.info()"
   ]
  },
  {
   "cell_type": "code",
   "execution_count": 7,
   "metadata": {
    "slideshow": {
     "slide_type": "skip"
    }
   },
   "outputs": [
    {
     "data": {
      "text/plain": [
       "0"
      ]
     },
     "execution_count": 7,
     "metadata": {},
     "output_type": "execute_result"
    }
   ],
   "source": [
    "# look for duplicates\n",
    "df.duplicated().sum()"
   ]
  },
  {
   "cell_type": "code",
   "execution_count": 8,
   "metadata": {
    "slideshow": {
     "slide_type": "skip"
    }
   },
   "outputs": [
    {
     "data": {
      "text/plain": [
       "Subscriber    1583554\n",
       "Customer       280167\n",
       "Name: user_type, dtype: int64"
      ]
     },
     "execution_count": 8,
     "metadata": {},
     "output_type": "execute_result"
    }
   ],
   "source": [
    "df.user_type.value_counts()"
   ]
  },
  {
   "cell_type": "code",
   "execution_count": 9,
   "metadata": {
    "slideshow": {
     "slide_type": "skip"
    }
   },
   "outputs": [],
   "source": [
    "# convert start time and end time to datetime format\n",
    "df.start_time = pd.to_datetime(df.start_time)\n",
    "df.end_time = pd.to_datetime(df.end_time)"
   ]
  },
  {
   "cell_type": "code",
   "execution_count": 10,
   "metadata": {
    "slideshow": {
     "slide_type": "skip"
    }
   },
   "outputs": [],
   "source": [
    "# convert start time column into 3 columns of month weekofyear and weekday\n",
    "df['month'] = df.start_time.dt.month\n",
    "df['weekofyear'] = df.start_time.dt.weekofyear\n",
    "df['weekday'] = df.start_time.dt.weekday_name\n",
    "df['hour'] = df.start_time.dt.hour"
   ]
  },
  {
   "cell_type": "code",
   "execution_count": 11,
   "metadata": {
    "slideshow": {
     "slide_type": "skip"
    }
   },
   "outputs": [],
   "source": [
    "# convert user_type and member_gender into category format\n",
    "df.user_type = df.user_type.astype('category')\n",
    "df.member_gender = df.member_gender.astype('category')"
   ]
  },
  {
   "cell_type": "code",
   "execution_count": 12,
   "metadata": {
    "slideshow": {
     "slide_type": "skip"
    }
   },
   "outputs": [],
   "source": [
    "df.drop(columns=['start_station_latitude', 'start_station_longitude', 'end_station_latitude', 'end_station_longitude'], inplace=True)"
   ]
  },
  {
   "cell_type": "code",
   "execution_count": 13,
   "metadata": {
    "slideshow": {
     "slide_type": "skip"
    }
   },
   "outputs": [],
   "source": [
    "# convert duration time to minutes\n",
    "df['duration_min'] = df['duration_sec'] / 60\n",
    "df.duration_min = df.duration_min.astype(int)"
   ]
  },
  {
   "cell_type": "code",
   "execution_count": 60,
   "metadata": {
    "slideshow": {
     "slide_type": "skip"
    }
   },
   "outputs": [],
   "source": [
    "# save dataset\n",
    "df.to_csv('df_clean.csv', index=False)"
   ]
  },
  {
   "cell_type": "markdown",
   "metadata": {
    "slideshow": {
     "slide_type": "skip"
    }
   },
   "source": [
    "## Exloration:\n",
    "<hr>"
   ]
  },
  {
   "cell_type": "code",
   "execution_count": 14,
   "metadata": {
    "slideshow": {
     "slide_type": "skip"
    }
   },
   "outputs": [
    {
     "data": {
      "text/plain": [
       "(331, 331)"
      ]
     },
     "execution_count": 14,
     "metadata": {},
     "output_type": "execute_result"
    }
   ],
   "source": [
    "# determine number of unique start and end station\n",
    "df.start_station_id.nunique(), df.end_station_id.nunique()"
   ]
  },
  {
   "cell_type": "code",
   "execution_count": 15,
   "metadata": {
    "slideshow": {
     "slide_type": "skip"
    }
   },
   "outputs": [
    {
     "data": {
      "text/plain": [
       "(Timestamp('2018-01-01 00:01:53.847000'),\n",
       " Timestamp('2018-12-31 23:59:12.097000'))"
      ]
     },
     "execution_count": 15,
     "metadata": {},
     "output_type": "execute_result"
    }
   ],
   "source": [
    "# determine date range\n",
    "df.start_time.min(), df.start_time.max()"
   ]
  },
  {
   "cell_type": "code",
   "execution_count": 16,
   "metadata": {
    "slideshow": {
     "slide_type": "skip"
    }
   },
   "outputs": [
    {
     "data": {
      "text/plain": [
       "11771"
      ]
     },
     "execution_count": 16,
     "metadata": {},
     "output_type": "execute_result"
    }
   ],
   "source": [
    "# determine how many station id is null\n",
    "df.start_station_id.isnull().sum()"
   ]
  },
  {
   "cell_type": "markdown",
   "metadata": {
    "slideshow": {
     "slide_type": "skip"
    }
   },
   "source": [
    "## Univariate Exploration\n",
    "\n",
    "> In this section, investigate distributions of individual variables. If\n",
    "you see unusual points or outliers, take a deeper look to clean things up\n",
    "and prepare yourself to look at relationships between variables."
   ]
  },
  {
   "cell_type": "markdown",
   "metadata": {},
   "source": [
    "### Question: Who is using the bike sharing services?"
   ]
  },
  {
   "cell_type": "code",
   "execution_count": 17,
   "metadata": {
    "slideshow": {
     "slide_type": "skip"
    }
   },
   "outputs": [
    {
     "data": {
      "image/png": "[encoded data removed]",
      "text/plain": [
       "<Figure size 432x288 with 1 Axes>"
      ]
     },
     "metadata": {
      "needs_background": "light"
     },
     "output_type": "display_data"
    }
   ],
   "source": [
    "# distribution of users per gender\n",
    "# an univariate bar chart is used here because we only want to see how usage changes with gender\n",
    "base_color = sb.color_palette()[0]\n",
    "sb.countplot(data=df, x='member_gender', color=base_color);"
   ]
  },
  {
   "cell_type": "markdown",
   "metadata": {
    "slideshow": {
     "slide_type": "skip"
    }
   },
   "source": [
    "*** Note: There are more than double of male users than female"
   ]
  },
  {
   "cell_type": "code",
   "execution_count": 18,
   "metadata": {
    "slideshow": {
     "slide_type": "skip"
    }
   },
   "outputs": [
    {
     "data": {
      "image/png": "[encoded data removed]",
      "text/plain": [
       "<Figure size 720x432 with 1 Axes>"
      ]
     },
     "metadata": {
      "needs_background": "light"
     },
     "output_type": "display_data"
    }
   ],
   "source": [
    "# POLISHING\n",
    "n_gender = df.shape[0]\n",
    "gender_count = df.member_gender.value_counts()\n",
    "gender_count[0], gender_count[1] = gender_count[1], gender_count[0]\n",
    "\n",
    "plt.figure(figsize=(10,6))\n",
    "base_color = sb.color_palette()[0]\n",
    "sb.countplot(data=df, y='member_gender', color=base_color, order=df.member_gender.value_counts().index);\n",
    "plt.title('Gender Distribution of GoBike (2018)\\n', fontsize=18);\n",
    "plt.xlabel('Number of Rental per year (units 100k)', fontsize=14)\n",
    "plt.ylabel('Gender', fontsize=14);\n",
    "ticks = [2, 4, 6, 8, 10, 12, 14]\n",
    "ticks_units = [200000, 400000, 600000, 800000, 1000000, 1200000, 1400000]\n",
    "plt.xticks(ticks_units, ticks);\n",
    "\n",
    "for i in range(gender_count.shape[0]):\n",
    "    count = gender_count[i]\n",
    "    pct_string = '{:0.1f}%'.format(100*count/n_gender)\n",
    "    plt.text(count+1, i, pct_string, va='center');"
   ]
  },
  {
   "cell_type": "code",
   "execution_count": 19,
   "metadata": {
    "slideshow": {
     "slide_type": "skip"
    }
   },
   "outputs": [
    {
     "data": {
      "image/png": "[encoded data removed]",
      "text/plain": [
       "<Figure size 432x288 with 1 Axes>"
      ]
     },
     "metadata": {
      "needs_background": "light"
     },
     "output_type": "display_data"
    }
   ],
   "source": [
    "# distribution of user type\n",
    "# an univariate bar chart is used here because we only want to see how usage changes with user type\n",
    "base_color = sb.color_palette()[0]\n",
    "sb.countplot(data=df, x='user_type', color=base_color);"
   ]
  },
  {
   "cell_type": "markdown",
   "metadata": {
    "slideshow": {
     "slide_type": "skip"
    }
   },
   "source": [
    "*** Note: Majority of users are on a subscription base"
   ]
  },
  {
   "cell_type": "code",
   "execution_count": 20,
   "metadata": {
    "slideshow": {
     "slide_type": "skip"
    }
   },
   "outputs": [
    {
     "data": {
      "image/png": "[encoded data removed]",
      "text/plain": [
       "<Figure size 720x432 with 1 Axes>"
      ]
     },
     "metadata": {
      "needs_background": "light"
     },
     "output_type": "display_data"
    }
   ],
   "source": [
    "# POLISHING\n",
    "n_user = df.shape[0]\n",
    "user_count = df.user_type.value_counts()\n",
    "user_count[0], user_count[1] = user_count[1], user_count[0]\n",
    "\n",
    "plt.figure(figsize=(10,6))\n",
    "base_color = sb.color_palette()[0]\n",
    "sb.countplot(data=df, y='user_type', color=base_color, order=df.user_type.value_counts().index);\n",
    "plt.title('User type Distribution of GoBike (2018)\\n', fontsize=18);\n",
    "plt.xlabel('Number of Rental per year (units 100k)',fontsize=14)\n",
    "plt.ylabel('User Type',fontsize=14);\n",
    "ticks = [2, 4, 6, 8, 10, 12, 14, 16]\n",
    "ticks_units = [200000, 400000, 600000, 800000, 1000000, 1200000, 1400000, 1600000]\n",
    "plt.xticks(ticks_units, ticks);\n",
    "\n",
    "for i in range(user_count.shape[0]):\n",
    "    count = user_count[i]\n",
    "    pct_string = '{:0.1f}%'.format(100*count/n_user)\n",
    "    plt.text(count+1, i, pct_string, va='center');"
   ]
  },
  {
   "cell_type": "code",
   "execution_count": 21,
   "metadata": {
    "slideshow": {
     "slide_type": "skip"
    }
   },
   "outputs": [
    {
     "data": {
      "image/png": "[encoded data removed]",
      "text/plain": [
       "<Figure size 1440x360 with 1 Axes>"
      ]
     },
     "metadata": {
      "needs_background": "light"
     },
     "output_type": "display_data"
    }
   ],
   "source": [
    "# plot of birthyear\n",
    "# an univariate bar chart is used here because we only want to see how usage changes with different ages\n",
    "plt.figure(figsize=[20,5])\n",
    "sb.countplot(data=df, x='member_birth_year', color=base_color);\n",
    "plt.xticks(rotation=90);"
   ]
  },
  {
   "cell_type": "markdown",
   "metadata": {
    "slideshow": {
     "slide_type": "skip"
    }
   },
   "source": [
    "*** Note: Majority of users are in the late 20's and early 30's.  Plan to break down the birth year to age groups."
   ]
  },
  {
   "cell_type": "code",
   "execution_count": 22,
   "metadata": {
    "slideshow": {
     "slide_type": "skip"
    }
   },
   "outputs": [
    {
     "data": {
      "image/png": "[encoded data removed]",
      "text/plain": [
       "<Figure size 432x288 with 1 Axes>"
      ]
     },
     "metadata": {
      "needs_background": "light"
     },
     "output_type": "display_data"
    }
   ],
   "source": [
    "# distribution of duration time in minutes\n",
    "# an univariate is used here because we only want to see a histagram of duration time\n",
    "binsize = 10\n",
    "bins = np.arange(0, df['duration_min'].max()+binsize, binsize)\n",
    "plt.hist(data=df, x='duration_min', bins=bins);"
   ]
  },
  {
   "cell_type": "markdown",
   "metadata": {
    "slideshow": {
     "slide_type": "skip"
    }
   },
   "source": [
    "*** Note: there are too many outlires that is hard to visualize the data.  we will be focusing on 1 hour and less"
   ]
  },
  {
   "cell_type": "markdown",
   "metadata": {},
   "source": [
    "### Question: How long do people rent the bikes?"
   ]
  },
  {
   "cell_type": "code",
   "execution_count": 23,
   "metadata": {
    "slideshow": {
     "slide_type": "skip"
    }
   },
   "outputs": [
    {
     "data": {
      "image/png": "[encoded data removed]",
      "text/plain": [
       "<Figure size 432x288 with 1 Axes>"
      ]
     },
     "metadata": {
      "needs_background": "light"
     },
     "output_type": "display_data"
    }
   ],
   "source": [
    "# reduced the outliers and focus on less than 1 hour\n",
    "# an univariate is used here because we only want to see a histagram of duration time\n",
    "binsize = 3\n",
    "bins = np.arange(0, df['duration_min'].max()+binsize, binsize)\n",
    "plt.hist(data=df, x='duration_min', bins=bins);\n",
    "plt.xlim(0, 60);"
   ]
  },
  {
   "cell_type": "markdown",
   "metadata": {
    "slideshow": {
     "slide_type": "skip"
    }
   },
   "source": [
    "*** Note: Majority of rides are less than 20 minutes and the chart is right skewed"
   ]
  },
  {
   "cell_type": "markdown",
   "metadata": {},
   "source": [
    "### Question: When do people use the bike sharing service?"
   ]
  },
  {
   "cell_type": "code",
   "execution_count": 24,
   "metadata": {
    "slideshow": {
     "slide_type": "skip"
    }
   },
   "outputs": [
    {
     "data": {
      "image/png": "[encoded data removed]",
      "text/plain": [
       "<Figure size 432x288 with 1 Axes>"
      ]
     },
     "metadata": {
      "needs_background": "light"
     },
     "output_type": "display_data"
    }
   ],
   "source": [
    "# distribution of users per hour of the day\n",
    "# an univariate is used here because we only want to see how rides share changes throughout the day\n",
    "sb.countplot(data=df, x='hour', color=base_color);\n",
    "plt.xticks(rotation=90);"
   ]
  },
  {
   "cell_type": "markdown",
   "metadata": {
    "slideshow": {
     "slide_type": "skip"
    }
   },
   "source": [
    "*** Note: The most popular hours looks to correlate around work hours with majority of people working from 8am to 5pm.  The bike rental gets busy during commute hours.  Looks like people are using the bike to get to work.<br>\n",
    "Plan: I will this graph for presentation after cleaning it up"
   ]
  },
  {
   "cell_type": "code",
   "execution_count": 25,
   "metadata": {
    "slideshow": {
     "slide_type": "skip"
    }
   },
   "outputs": [
    {
     "data": {
      "image/png": "[encoded data removed]",
      "text/plain": [
       "<Figure size 720x432 with 1 Axes>"
      ]
     },
     "metadata": {
      "needs_background": "light"
     },
     "output_type": "display_data"
    }
   ],
   "source": [
    "# POLISHING\n",
    "plt.figure(figsize=(10,6))\n",
    "sb.countplot(data=df, x='hour', color=base_color);\n",
    "plt.xticks(rotation=90);\n",
    "plt.title('Usage Distribution throughout the day for GoBike (2018)\\n', fontsize=16)\n",
    "plt.xlabel('Hour of Day', fontsize=14)\n",
    "plt.ylabel('Number of Rental (unit 1k)', fontsize=14)\n",
    "ticks = np.arange(0,24,1)\n",
    "ticks_units = ['12am', '1am', '2am', '3am', '4am', '5am', '6am', '7am', '8am', '9am', '10am', '11am', '12pm', '1pm', '2pm', '3pm', '4pm', '5pm', '6pm', '7pm', '8pm', '9pm', '10pm', '11pm']\n",
    "plt.xticks(ticks, ticks_units);\n",
    "yticks = [50, 100, 150, 200]\n",
    "yticks_units = [50000, 100000, 150000, 200000]\n",
    "plt.yticks(yticks_units, yticks);"
   ]
  },
  {
   "cell_type": "code",
   "execution_count": 26,
   "metadata": {
    "slideshow": {
     "slide_type": "skip"
    }
   },
   "outputs": [],
   "source": [
    "# lets look at weekday only and see if there is a difference\n",
    "dfweekday = df.query('weekday != \"Saturday\" or weekday != \"Sunday\"')"
   ]
  },
  {
   "cell_type": "code",
   "execution_count": 27,
   "metadata": {
    "slideshow": {
     "slide_type": "skip"
    }
   },
   "outputs": [
    {
     "data": {
      "image/png": "[encoded data removed]",
      "text/plain": [
       "<Figure size 432x288 with 1 Axes>"
      ]
     },
     "metadata": {
      "needs_background": "light"
     },
     "output_type": "display_data"
    }
   ],
   "source": [
    "# distribution of users per hour of the day for weekdays\n",
    "# an univariate is used here because we only want to see how rides share changes throughout the day\n",
    "sb.countplot(data=dfweekday, x='hour', color=base_color);\n",
    "plt.xticks(rotation=90);"
   ]
  },
  {
   "cell_type": "markdown",
   "metadata": {
    "slideshow": {
     "slide_type": "skip"
    }
   },
   "source": [
    "*** Note: The hours of uses looks the same throughout the week compared to just the weekday"
   ]
  },
  {
   "cell_type": "code",
   "execution_count": 28,
   "metadata": {
    "slideshow": {
     "slide_type": "skip"
    }
   },
   "outputs": [
    {
     "data": {
      "image/png": "[encoded data removed]",
      "text/plain": [
       "<Figure size 432x288 with 1 Axes>"
      ]
     },
     "metadata": {
      "needs_background": "light"
     },
     "output_type": "display_data"
    }
   ],
   "source": [
    "# look at usage per day of the week\n",
    "sb.countplot(data=df, x='weekday', color=base_color);\n",
    "plt.xticks(rotation=90);"
   ]
  },
  {
   "cell_type": "code",
   "execution_count": 29,
   "metadata": {
    "slideshow": {
     "slide_type": "skip"
    }
   },
   "outputs": [],
   "source": [
    "# create order categorical format for day of the week\n",
    "days = ['Monday', 'Tuesday', 'Wednesday', 'Thursday', 'Friday', 'Saturday', 'Sunday']\n",
    "days_category = pd.api.types.CategoricalDtype(ordered=True, categories=days)\n",
    "df.weekday = df.weekday.astype(days_category)"
   ]
  },
  {
   "cell_type": "code",
   "execution_count": 30,
   "metadata": {
    "slideshow": {
     "slide_type": "skip"
    }
   },
   "outputs": [
    {
     "data": {
      "image/png": "[encoded data removed]",
      "text/plain": [
       "<Figure size 432x288 with 1 Axes>"
      ]
     },
     "metadata": {
      "needs_background": "light"
     },
     "output_type": "display_data"
    }
   ],
   "source": [
    "# count plot of uses per day of the week\n",
    "# an univariate bar chart is used here because we only want to see how usage changes throughout the week\n",
    "sb.countplot(data=df, x='weekday', color=base_color);\n",
    "plt.xticks(rotation=90);"
   ]
  },
  {
   "cell_type": "markdown",
   "metadata": {
    "slideshow": {
     "slide_type": "skip"
    }
   },
   "source": [
    "*** Note: Majority of uses are during regular work days of Monday to Friday.  Plan to use this to prove that the bikes are used for work"
   ]
  },
  {
   "cell_type": "code",
   "execution_count": 48,
   "metadata": {
    "slideshow": {
     "slide_type": "skip"
    }
   },
   "outputs": [
    {
     "data": {
      "image/png": "[encoded data removed]",
      "text/plain": [
       "<Figure size 720x432 with 1 Axes>"
      ]
     },
     "metadata": {
      "needs_background": "light"
     },
     "output_type": "display_data"
    }
   ],
   "source": [
    "#POLISHING\n",
    "plt.figure(figsize=(10,6))\n",
    "sb.countplot(data=df, x='weekday', color=base_color);\n",
    "plt.xticks(rotation=90);\n",
    "plt.title('Usage Distribution throughout the Week of GoBike (2018)\\n', fontsize=18)\n",
    "plt.xlabel('Day of the Week', fontsize=14)\n",
    "plt.ylabel('Number of Rental (unit 1k)', fontsize=14);\n",
    "yticks = [50, 100, 150, 200, 250, 300]\n",
    "yticks_units = [50000, 100000, 150000, 200000, 250000, 300000]\n",
    "plt.yticks(yticks_units, yticks);"
   ]
  },
  {
   "cell_type": "code",
   "execution_count": 32,
   "metadata": {
    "slideshow": {
     "slide_type": "skip"
    }
   },
   "outputs": [
    {
     "data": {
      "image/png": "[encoded data removed]",
      "text/plain": [
       "<Figure size 720x360 with 1 Axes>"
      ]
     },
     "metadata": {
      "needs_background": "light"
     },
     "output_type": "display_data"
    }
   ],
   "source": [
    "# distribution per week of the year\n",
    "# an univariate bar chart is used here because we only want to see how usage changes throughout the year\n",
    "plt.figure(figsize=[10,5])\n",
    "sb.countplot(data=df, x='weekofyear', color=base_color);\n",
    "plt.xticks(rotation=90);"
   ]
  },
  {
   "cell_type": "markdown",
   "metadata": {
    "slideshow": {
     "slide_type": "skip"
    }
   },
   "source": [
    "*** Note: The same trend as we can in the month distribution, except we could see a rise in rental during Christmas shopping time"
   ]
  },
  {
   "cell_type": "code",
   "execution_count": 49,
   "metadata": {
    "slideshow": {
     "slide_type": "skip"
    }
   },
   "outputs": [
    {
     "data": {
      "image/png": "[encoded data removed]",
      "text/plain": [
       "<Figure size 720x432 with 1 Axes>"
      ]
     },
     "metadata": {
      "needs_background": "light"
     },
     "output_type": "display_data"
    }
   ],
   "source": [
    "# POLISHING\n",
    "plt.figure(figsize=(10,6))\n",
    "sb.countplot(data=df, x='weekofyear', color=base_color);\n",
    "plt.xticks(rotation=90);\n",
    "plt.title('Usage Distribution throughout the Year of GoBike (2018)\\n', fontsize=17)\n",
    "plt.xlabel('Week of the Year', fontsize=14)\n",
    "plt.ylabel('Number of Rental (unit 1k)', fontsize=14)\n",
    "\n",
    "yticks = np.arange(0, 51, 10)\n",
    "yticks_units = yticks*1000\n",
    "plt.yticks(yticks_units, yticks);"
   ]
  },
  {
   "cell_type": "code",
   "execution_count": 34,
   "metadata": {
    "slideshow": {
     "slide_type": "skip"
    }
   },
   "outputs": [
    {
     "data": {
      "image/png": "[encoded data removed]",
      "text/plain": [
       "<Figure size 432x288 with 1 Axes>"
      ]
     },
     "metadata": {
      "needs_background": "light"
     },
     "output_type": "display_data"
    }
   ],
   "source": [
    "# countplot of number of uses per month\n",
    "# an univariate bar chart is used here because we only want to see how usage changes throughout the year\n",
    "sb.countplot(data=df, x='month', color=base_color);\n",
    "plt.xticks(rotation=90);"
   ]
  },
  {
   "cell_type": "markdown",
   "metadata": {
    "slideshow": {
     "slide_type": "skip"
    }
   },
   "source": [
    "*** Note: Bike rental are more popular in months that are warmer and dry in San Francisco"
   ]
  },
  {
   "cell_type": "code",
   "execution_count": 35,
   "metadata": {
    "slideshow": {
     "slide_type": "skip"
    }
   },
   "outputs": [],
   "source": [
    "# filter out all nan for birth year to analyze age distribution\n",
    "df_gen = df.dropna()"
   ]
  },
  {
   "cell_type": "markdown",
   "metadata": {
    "slideshow": {
     "slide_type": "skip"
    }
   },
   "source": [
    "### Note:\n",
    "According to the Pew Research Group, they group people in the following categories:\n",
    "\n",
    "    The Silent Generation: Born 1928-1945 (73-90 years old)\n",
    "    Baby Boomers: Born 1946-1964 (54-72 years old)\n",
    "    Generation X: Born 1965-1980 (38-53 years old)\n",
    "    Millennials: Born 1981-1996 (22-37 years old)\n",
    "    Post-Millennials: Born 1997-Present (0-21 years old)"
   ]
  },
  {
   "cell_type": "code",
   "execution_count": 36,
   "metadata": {
    "slideshow": {
     "slide_type": "skip"
    }
   },
   "outputs": [],
   "source": [
    "# define function to categorize birth year into age groups as defined by Pew Research group\n",
    "def gen(row):\n",
    "    if row['member_birth_year'] <= 1945:\n",
    "        return 'Silent Generation'\n",
    "    elif row['member_birth_year'] <= 1964:\n",
    "        return 'Baby Boomers'\n",
    "    elif row['member_birth_year'] <= 1980:\n",
    "        return 'Generation X'\n",
    "    elif row['member_birth_year'] <= 1996:\n",
    "        return 'Millennials'\n",
    "    else:\n",
    "        return 'Post Millennials'"
   ]
  },
  {
   "cell_type": "code",
   "execution_count": 37,
   "metadata": {
    "slideshow": {
     "slide_type": "skip"
    }
   },
   "outputs": [
    {
     "name": "stderr",
     "output_type": "stream",
     "text": [
      "C:\\Users\\J37451\\AppData\\Local\\Continuum\\anaconda3\\lib\\site-packages\\ipykernel_launcher.py:1: SettingWithCopyWarning: \n",
      "A value is trying to be set on a copy of a slice from a DataFrame.\n",
      "Try using .loc[row_indexer,col_indexer] = value instead\n",
      "\n",
      "See the caveats in the documentation: http://pandas.pydata.org/pandas-docs/stable/indexing.html#indexing-view-versus-copy\n",
      "  \"\"\"Entry point for launching an IPython kernel.\n"
     ]
    }
   ],
   "source": [
    "df_gen['age_group'] = df_gen.apply(gen, axis=1)"
   ]
  },
  {
   "cell_type": "markdown",
   "metadata": {},
   "source": [
    "### Question: What age group uses the bike sharing service?"
   ]
  },
  {
   "cell_type": "code",
   "execution_count": 38,
   "metadata": {
    "slideshow": {
     "slide_type": "skip"
    }
   },
   "outputs": [
    {
     "data": {
      "image/png": "[encoded data removed]",
      "text/plain": [
       "<Figure size 432x288 with 1 Axes>"
      ]
     },
     "metadata": {
      "needs_background": "light"
     },
     "output_type": "display_data"
    }
   ],
   "source": [
    "sb.countplot(data=df_gen, x='age_group', color=base_color);\n",
    "plt.xticks(rotation=90);"
   ]
  },
  {
   "cell_type": "markdown",
   "metadata": {
    "slideshow": {
     "slide_type": "skip"
    }
   },
   "source": [
    "*** Note: There is clearly seen that the Millennial age group are the ones using the service more than anybody else.  The Generation X is less than half of the Millennials."
   ]
  },
  {
   "cell_type": "code",
   "execution_count": 50,
   "metadata": {
    "slideshow": {
     "slide_type": "skip"
    }
   },
   "outputs": [
    {
     "data": {
      "image/png": "[encoded data removed]",
      "text/plain": [
       "<Figure size 720x432 with 1 Axes>"
      ]
     },
     "metadata": {
      "needs_background": "light"
     },
     "output_type": "display_data"
    }
   ],
   "source": [
    "# POLISHING\n",
    "\n",
    "plt.figure(figsize=(10,6))\n",
    "sb.countplot(data=df_gen, y='age_group', color=base_color);\n",
    "plt.xticks(rotation=90);\n",
    "plt.title('Usage Distribution per Age Group for GoBike (2018)\\n', fontsize=18)\n",
    "plt.ylabel('Age Group', fontsize=14)\n",
    "plt.xlabel('Number of Rental (unit 100k)', fontsize=14)\n",
    "\n",
    "xticks = np.arange(0, 11, 2)\n",
    "xticks_units = xticks*100000\n",
    "plt.xticks(xticks_units, xticks);\n",
    "\n",
    "n_user = df.shape[0]\n",
    "user_count = df_gen.age_group.value_counts()\n",
    "\n",
    "for i in range(user_count.shape[0]):\n",
    "    count = user_count[i]\n",
    "    pct_string = '{:0.1f}%'.format(100*count/n_user)\n",
    "    plt.text(count+1, i, pct_string, va='center');"
   ]
  },
  {
   "cell_type": "markdown",
   "metadata": {
    "slideshow": {
     "slide_type": "skip"
    }
   },
   "source": [
    "### Discuss the distribution(s) of your variable(s) of interest. Were there any unusual points? Did you need to perform any transformations?\n",
    "\n",
    "> For the distribution of the duration bike rental times, the data was clustered around 10 minutes mark, but there are also many outliers that goes out to 24 hours of use.  To get a good understanding of the data, I had to reduce my search to less than 60 minutes to see the distribution clearly.\n",
    "\n",
    "### Of the features you investigated, were there any unusual distributions? Did you perform any operations on the data to tidy, adjust, or change the form of the data? If so, why did you do this?\n",
    "\n",
    "> I used the birthdate to find out what age group are using the rental service.  In order to judge by age group instead of individual years, I had to categorize the birthdate to specific generation group like Baby Boomer and Millennials."
   ]
  },
  {
   "cell_type": "markdown",
   "metadata": {
    "slideshow": {
     "slide_type": "skip"
    }
   },
   "source": [
    "## Bivariate Exploration\n",
    "\n",
    "> In this section, investigate relationships between pairs of variables in your\n",
    "data. Make sure the variables that you cover here have been introduced in some\n",
    "fashion in the previous section (univariate exploration)."
   ]
  },
  {
   "cell_type": "code",
   "execution_count": 40,
   "metadata": {
    "slideshow": {
     "slide_type": "skip"
    }
   },
   "outputs": [
    {
     "data": {
      "image/png": "[encoded data removed]",
      "text/plain": [
       "<Figure size 432x288 with 1 Axes>"
      ]
     },
     "metadata": {
      "needs_background": "light"
     },
     "output_type": "display_data"
    }
   ],
   "source": [
    "# boxplot of duration time per user type\n",
    "sb.boxplot(data=df, x='user_type', y='duration_min');"
   ]
  },
  {
   "cell_type": "code",
   "execution_count": 41,
   "metadata": {
    "slideshow": {
     "slide_type": "skip"
    }
   },
   "outputs": [],
   "source": [
    "# query only 30  mins or less\n",
    "df30 = df.query('duration_min <= 30')"
   ]
  },
  {
   "cell_type": "markdown",
   "metadata": {},
   "source": [
    "### Question: Is there any correlation between User type and duration?"
   ]
  },
  {
   "cell_type": "code",
   "execution_count": 42,
   "metadata": {
    "slideshow": {
     "slide_type": "skip"
    }
   },
   "outputs": [
    {
     "data": {
      "image/png": "[encoded data removed]",
      "text/plain": [
       "<Figure size 432x288 with 1 Axes>"
      ]
     },
     "metadata": {
      "needs_background": "light"
     },
     "output_type": "display_data"
    }
   ],
   "source": [
    "# new boxplot of duration compared to user type\n",
    "# bivariate boxplot is used to compare categorical data with quantative data and is used to see how usage changes with user type\n",
    "sb.boxplot(data=df30, x='user_type', y='duration_min');"
   ]
  },
  {
   "cell_type": "markdown",
   "metadata": {
    "slideshow": {
     "slide_type": "skip"
    }
   },
   "source": [
    "*** Note: Looks like subscriber rents the bike for shorter trips than the customer"
   ]
  },
  {
   "cell_type": "code",
   "execution_count": 43,
   "metadata": {
    "slideshow": {
     "slide_type": "skip"
    }
   },
   "outputs": [
    {
     "name": "stderr",
     "output_type": "stream",
     "text": [
      "C:\\Users\\J37451\\AppData\\Local\\Continuum\\anaconda3\\lib\\site-packages\\pandas\\core\\generic.py:4405: SettingWithCopyWarning: \n",
      "A value is trying to be set on a copy of a slice from a DataFrame.\n",
      "Try using .loc[row_indexer,col_indexer] = value instead\n",
      "\n",
      "See the caveats in the documentation: http://pandas.pydata.org/pandas-docs/stable/indexing.html#indexing-view-versus-copy\n",
      "  self[name] = value\n"
     ]
    }
   ],
   "source": [
    "# create order categorical format for day of the week\n",
    "df30.weekday = df30.weekday.astype(days_category)"
   ]
  },
  {
   "cell_type": "markdown",
   "metadata": {},
   "source": [
    "### Question: Is there any correlation between day of the week and duration?"
   ]
  },
  {
   "cell_type": "code",
   "execution_count": 44,
   "metadata": {
    "slideshow": {
     "slide_type": "skip"
    }
   },
   "outputs": [
    {
     "data": {
      "image/png": "[encoded data removed]",
      "text/plain": [
       "<Figure size 432x288 with 1 Axes>"
      ]
     },
     "metadata": {
      "needs_background": "light"
     },
     "output_type": "display_data"
    }
   ],
   "source": [
    "# new boxplot of duration compared to user type\n",
    "# boxplot is used to compare categorical data with quantative data and is used to see how usage changes throughout the week\n",
    "sb.boxplot(data=df30, x='weekday', y='duration_min');\n",
    "plt.xticks(rotation=90);"
   ]
  },
  {
   "cell_type": "markdown",
   "metadata": {
    "slideshow": {
     "slide_type": "skip"
    }
   },
   "source": [
    "*** Note: Starting to see a trend.  Monday to Friday duration is consistent.  The same goes for weekends.  It appears that the same people who are commuting daily to work."
   ]
  },
  {
   "cell_type": "code",
   "execution_count": 59,
   "metadata": {
    "slideshow": {
     "slide_type": "skip"
    }
   },
   "outputs": [
    {
     "data": {
      "image/png": "[encoded data removed]",
      "text/plain": [
       "<Figure size 720x432 with 1 Axes>"
      ]
     },
     "metadata": {
      "needs_background": "light"
     },
     "output_type": "display_data"
    }
   ],
   "source": [
    "# POLISHING\n",
    "plt.figure(figsize=(10,6))\n",
    "sb.boxplot(data=df30, x='weekday', y='duration_min');\n",
    "plt.xticks(rotation=90);\n",
    "plt.title('Duration of Rental Distribution through the Week for GoBike (2018)\\nFor Duration of less than 30 minutes', fontsize=16)\n",
    "plt.xlabel('Day of the Week', fontsize=14)\n",
    "plt.ylabel('Duration (minutes)', fontsize=14);"
   ]
  },
  {
   "cell_type": "markdown",
   "metadata": {
    "slideshow": {
     "slide_type": "skip"
    }
   },
   "source": [
    "### Talk about some of the relationships you observed in this part of the investigation. How did the feature(s) of interest vary with other features in the dataset?\n",
    "\n",
    "> This dataset has only one quantitative column, which limits the need for bivariate charts, but one interesting result was the duration vs user type.  Because the data was clustered around 10 minutes, and outliers goes about to 1400 minutes, I had to focus on only 30  minutes or less to get a sense of majority of the customers.  From the result, daily users, which are subscribers, use the bike for shorter periods than the customer. \n",
    "\n",
    "### Did you observe any interesting relationships between the other features (not the main feature(s) of interest)?\n",
    "\n",
    "> One interesting result from the weekday compared to duration is that consistency of the usage during weekdays and weekends.  The weekday usage seems to correlate with those using the bikes for work, while the weekend looks like those who use it for recreation, since they are using it for longer period of time."
   ]
  },
  {
   "cell_type": "markdown",
   "metadata": {
    "slideshow": {
     "slide_type": "skip"
    }
   },
   "source": [
    "## Multivariate Exploration\n",
    "\n",
    "> Create plots of three or more variables to investigate your data even\n",
    "further. Make sure that your investigations are justified, and follow from\n",
    "your work in the previous sections."
   ]
  },
  {
   "cell_type": "markdown",
   "metadata": {},
   "source": [
    "### Question: Is there any correlation between age group and duration?"
   ]
  },
  {
   "cell_type": "code",
   "execution_count": 46,
   "metadata": {
    "slideshow": {
     "slide_type": "skip"
    }
   },
   "outputs": [
    {
     "data": {
      "image/png": "[encoded data removed]",
      "text/plain": [
       "<Figure size 432x288 with 1 Axes>"
      ]
     },
     "metadata": {
      "needs_background": "light"
     },
     "output_type": "display_data"
    }
   ],
   "source": [
    "# for the boxplot, since we have a large amount of outlires, I will be focusing on under 30 mins.\n",
    "# we will be looking at if age, user type, and duration have any correlation\n",
    "df_gen_filter = df_gen.query('duration_min <= 30')\n",
    "sb.boxplot(data=df_gen_filter, x='age_group', y='duration_min', hue='user_type');\n",
    "plt.xticks(rotation=90);\n",
    "plt.legend();"
   ]
  },
  {
   "cell_type": "markdown",
   "metadata": {
    "slideshow": {
     "slide_type": "skip"
    }
   },
   "source": [
    "*** From the results, it looks like customers, probably tourist or others that don't use the service daily, tend to use it for longer period of time.  We also see that Post Millennials non-daily users uses the service the longest period of time."
   ]
  },
  {
   "cell_type": "code",
   "execution_count": 47,
   "metadata": {
    "slideshow": {
     "slide_type": "skip"
    }
   },
   "outputs": [
    {
     "data": {
      "image/png": "[encoded data removed]",
      "text/plain": [
       "<Figure size 432x288 with 1 Axes>"
      ]
     },
     "metadata": {
      "needs_background": "light"
     },
     "output_type": "display_data"
    }
   ],
   "source": [
    "# I just want to see what it looks like for over an hour\n",
    "# we will be looking at if age, user type, and duration have any correlation\n",
    "df_gen_filter = df_gen.query('duration_min > 60')\n",
    "sb.boxplot(data=df_gen_filter, x='age_group', y='duration_min', hue='user_type');\n",
    "plt.xticks(rotation=90);\n",
    "plt.legend();"
   ]
  },
  {
   "cell_type": "markdown",
   "metadata": {
    "slideshow": {
     "slide_type": "skip"
    }
   },
   "source": [
    "### Talk about some of the relationships you observed in this part of the investigation. Were there features that strengthened each other in terms of looking at your feature(s) of interest?\n",
    "\n",
    "> Again, this dataset has only one quantitative column, which limits the need for multivariate chart.  When looking at duration compared to age group and user type, I found little difference between the different age groups.  Again, the subscribers use the bikes for shorter period of time.  \n",
    "\n",
    "### Were there any interesting or surprising interactions between features?\n",
    "\n",
    "> One interesting result is that the older and younger generation of the customer group tend to use the service a little longer than the Millennials and the Generation X.  Maybe the older takes longer to get to their destination and the younger might be having more fun and taking their time getting to their destination."
   ]
  },
  {
   "cell_type": "markdown",
   "metadata": {
    "slideshow": {
     "slide_type": "skip"
    }
   },
   "source": [
    "> At the end of your report, make sure that you export the notebook as an\n",
    "html file from the `File > Download as... > HTML` menu. Make sure you keep\n",
    "track of where the exported file goes, so you can put it in the same folder\n",
    "as this notebook for project submission. Also, make sure you remove all of\n",
    "the quote-formatted guide notes like this one before you finish your report!"
   ]
  },
  {
   "cell_type": "markdown",
   "metadata": {
    "slideshow": {
     "slide_type": "skip"
    }
   },
   "source": [
    "# PRESENTATION\n",
    "<HR>"
   ]
  },
  {
   "cell_type": "markdown",
   "metadata": {
    "slideshow": {
     "slide_type": "slide"
    }
   },
   "source": [
    "# Bikesharing Investigation\n",
    "## by Marc Nguyen\n",
    "<BR><BR>"
   ]
  },
  {
   "cell_type": "markdown",
   "metadata": {
    "slideshow": {
     "slide_type": "slide"
    }
   },
   "source": [
    "## Investigation Overview\n",
    "\n",
    "> In this investigation, I will be exploring Ford's GoBike bike sharing program in San Francisco, California.  GoBike is a program develop by Ford to provide an alternative means of transportation for getting around town.  You can simply rent a bike to ride around town for leisure or use it as a form of commute to work.<br><br>\n",
    "I will be using the dataset to paint a picture of what type of customer is using the program and how they are using it.\n",
    "\n",
    "## Dataset Overview\n",
    "\n",
    "> The dataset provides information on the bike trip with information on when and where the bike rental starts and stops.  It also provides information the customer with information like age, user type, and gender."
   ]
  },
  {
   "cell_type": "markdown",
   "metadata": {
    "slideshow": {
     "slide_type": "slide"
    }
   },
   "source": [
    "## (Visualization 1)\n",
    "\n",
    "> The main core of the customer base for Ford's GoBike bike sharing program are male Millennials who uses the service on a daily basis.  From the analysis, 69% of bike renters are male, 60% are Millennials, and 85% pay on a scription basis."
   ]
  },
  {
   "cell_type": "code",
   "execution_count": 61,
   "metadata": {
    "slideshow": {
     "slide_type": "subslide"
    }
   },
   "outputs": [
    {
     "data": {
      "image/png": "[encoded data removed]",
      "text/plain": [
       "<Figure size 720x432 with 1 Axes>"
      ]
     },
     "metadata": {
      "needs_background": "light"
     },
     "output_type": "display_data"
    }
   ],
   "source": [
    "# POLISHING\n",
    "n_gender = df.shape[0]\n",
    "gender_count = df.member_gender.value_counts()\n",
    "gender_count[0], gender_count[1] = gender_count[1], gender_count[0]\n",
    "\n",
    "plt.figure(figsize=(10,6))\n",
    "base_color = sb.color_palette()[0]\n",
    "sb.countplot(data=df, y='member_gender', color=base_color, order=df.member_gender.value_counts().index);\n",
    "plt.title('Gender Distribution of GoBike (2018)\\n', fontsize=18);\n",
    "plt.xlabel('Number of Rental per year (units 100k)', fontsize=14)\n",
    "plt.ylabel('Gender', fontsize=14);\n",
    "ticks = [2, 4, 6, 8, 10, 12, 14]\n",
    "ticks_units = [200000, 400000, 600000, 800000, 1000000, 1200000, 1400000]\n",
    "plt.xticks(ticks_units, ticks);\n",
    "\n",
    "for i in range(gender_count.shape[0]):\n",
    "    count = gender_count[i]\n",
    "    pct_string = '{:0.1f}%'.format(100*count/n_gender)\n",
    "    plt.text(count+1, i, pct_string, va='center');"
   ]
  },
  {
   "cell_type": "code",
   "execution_count": 62,
   "metadata": {
    "slideshow": {
     "slide_type": "subslide"
    }
   },
   "outputs": [
    {
     "data": {
      "image/png": "[encoded data removed]",
      "text/plain": [
       "<Figure size 720x432 with 1 Axes>"
      ]
     },
     "metadata": {
      "needs_background": "light"
     },
     "output_type": "display_data"
    }
   ],
   "source": [
    "# POLISHING\n",
    "\n",
    "plt.figure(figsize=(10,6))\n",
    "sb.countplot(data=df_gen, y='age_group', color=base_color);\n",
    "plt.xticks(rotation=90);\n",
    "plt.title('Usage Distribution per Age Group for GoBike (2018)\\n', fontsize=18)\n",
    "plt.ylabel('Age Group', fontsize=14)\n",
    "plt.xlabel('Number of Rental (unit 100k)', fontsize=14)\n",
    "\n",
    "xticks = np.arange(0, 11, 2)\n",
    "xticks_units = xticks*100000\n",
    "plt.xticks(xticks_units, xticks);\n",
    "\n",
    "n_user = df.shape[0]\n",
    "user_count = df_gen.age_group.value_counts()\n",
    "\n",
    "for i in range(user_count.shape[0]):\n",
    "    count = user_count[i]\n",
    "    pct_string = '{:0.1f}%'.format(100*count/n_user)\n",
    "    plt.text(count+1, i, pct_string, va='center');"
   ]
  },
  {
   "cell_type": "code",
   "execution_count": 65,
   "metadata": {
    "slideshow": {
     "slide_type": "subslide"
    }
   },
   "outputs": [
    {
     "data": {
      "image/png": "[encoded data removed]",
      "text/plain": [
       "<Figure size 720x432 with 1 Axes>"
      ]
     },
     "metadata": {
      "needs_background": "light"
     },
     "output_type": "display_data"
    }
   ],
   "source": [
    "# POLISHING\n",
    "n_user = df.shape[0]\n",
    "user_count = df.user_type.value_counts()\n",
    "user_count[0], user_count[1] = user_count[1], user_count[0]\n",
    "\n",
    "plt.figure(figsize=(10,6))\n",
    "base_color = sb.color_palette()[0]\n",
    "sb.countplot(data=df, y='user_type', color=base_color, order=df.user_type.value_counts().index);\n",
    "plt.title('User type Distribution of GoBike (2018)\\n', fontsize=18);\n",
    "plt.xlabel('Number of Rental per year (units 100k)',fontsize=14)\n",
    "plt.ylabel('User Type',fontsize=14);\n",
    "ticks = [2, 4, 6, 8, 10, 12, 14, 16]\n",
    "ticks_units = [200000, 400000, 600000, 800000, 1000000, 1200000, 1400000, 1600000]\n",
    "plt.xticks(ticks_units, ticks);\n",
    "\n",
    "for i in range(user_count.shape[0]):\n",
    "    count = user_count[i]\n",
    "    pct_string = '{:0.1f}%'.format(100*count/n_user)\n",
    "    plt.text(count+1, i, pct_string, va='center');"
   ]
  },
  {
   "cell_type": "markdown",
   "metadata": {
    "slideshow": {
     "slide_type": "slide"
    }
   },
   "source": [
    "## (Visualization 2)\n",
    "\n",
    "> We know who is using the service.  As for the purpose, the core of the business is for commuting to work.  We could see this by the high usage during Monday to Friday and consistent throughout the week.  We also could see this by the peak usage during peak commute hours of 7am to 9am and 4pm to 6pm."
   ]
  },
  {
   "cell_type": "code",
   "execution_count": 66,
   "metadata": {
    "slideshow": {
     "slide_type": "subslide"
    }
   },
   "outputs": [
    {
     "data": {
      "image/png": "[encoded data removed]",
      "text/plain": [
       "<Figure size 720x432 with 1 Axes>"
      ]
     },
     "metadata": {
      "needs_background": "light"
     },
     "output_type": "display_data"
    }
   ],
   "source": [
    "#POLISHING\n",
    "plt.figure(figsize=(10,6))\n",
    "sb.countplot(data=df, x='weekday', color=base_color);\n",
    "plt.xticks(rotation=90);\n",
    "plt.title('Usage Distribution throughout the Week of GoBike (2018)\\n', fontsize=18)\n",
    "plt.xlabel('Day of the Week', fontsize=14)\n",
    "plt.ylabel('Number of Rental (unit 1k)', fontsize=14);\n",
    "yticks = [50, 100, 150, 200, 250, 300]\n",
    "yticks_units = [50000, 100000, 150000, 200000, 250000, 300000]\n",
    "plt.yticks(yticks_units, yticks);"
   ]
  },
  {
   "cell_type": "code",
   "execution_count": 67,
   "metadata": {
    "slideshow": {
     "slide_type": "subslide"
    }
   },
   "outputs": [
    {
     "data": {
      "image/png": "[encoded data removed]",
      "text/plain": [
       "<Figure size 720x432 with 1 Axes>"
      ]
     },
     "metadata": {
      "needs_background": "light"
     },
     "output_type": "display_data"
    }
   ],
   "source": [
    "# POLISHING\n",
    "plt.figure(figsize=(10,6))\n",
    "sb.boxplot(data=df30, x='weekday', y='duration_min');\n",
    "plt.xticks(rotation=90);\n",
    "plt.title('Duration of Rental Distribution through the Week for GoBike (2018)\\nFor Duration of less than 30 minutes', fontsize=16)\n",
    "plt.xlabel('Day of the Week', fontsize=14)\n",
    "plt.ylabel('Duration (minutes)', fontsize=14);"
   ]
  },
  {
   "cell_type": "code",
   "execution_count": 68,
   "metadata": {
    "slideshow": {
     "slide_type": "subslide"
    }
   },
   "outputs": [
    {
     "data": {
      "image/png": "[encoded data removed]",
      "text/plain": [
       "<Figure size 720x432 with 1 Axes>"
      ]
     },
     "metadata": {
      "needs_background": "light"
     },
     "output_type": "display_data"
    }
   ],
   "source": [
    "# POLISHING\n",
    "plt.figure(figsize=(10,6))\n",
    "sb.countplot(data=df, x='hour', color=base_color);\n",
    "plt.xticks(rotation=90);\n",
    "plt.title('Usage Distribution throughout the day for GoBike (2018)\\n', fontsize=16)\n",
    "plt.xlabel('Hour of Day', fontsize=14)\n",
    "plt.ylabel('Number of Rental (unit 1k)', fontsize=14)\n",
    "ticks = np.arange(0,24,1)\n",
    "ticks_units = ['12am', '1am', '2am', '3am', '4am', '5am', '6am', '7am', '8am', '9am', '10am', '11am', '12pm', '1pm', '2pm', '3pm', '4pm', '5pm', '6pm', '7pm', '8pm', '9pm', '10pm', '11pm']\n",
    "plt.xticks(ticks, ticks_units);\n",
    "yticks = [50, 100, 150, 200]\n",
    "yticks_units = [50000, 100000, 150000, 200000]\n",
    "plt.yticks(yticks_units, yticks);"
   ]
  },
  {
   "cell_type": "markdown",
   "metadata": {
    "slideshow": {
     "slide_type": "slide"
    }
   },
   "source": [
    "## (Visualization 3)\n",
    "\n",
    "> In the final visualization, I found that the bike sharing service is mainly used during dry warm months of San Francisco, California, with the exception of increase in usage during Christmas shopping period."
   ]
  },
  {
   "cell_type": "code",
   "execution_count": 69,
   "metadata": {
    "slideshow": {
     "slide_type": "subslide"
    }
   },
   "outputs": [
    {
     "data": {
      "image/png": "[encoded data removed]",
      "text/plain": [
       "<Figure size 720x432 with 1 Axes>"
      ]
     },
     "metadata": {
      "needs_background": "light"
     },
     "output_type": "display_data"
    }
   ],
   "source": [
    "# POLISHING\n",
    "plt.figure(figsize=(10,6))\n",
    "sb.countplot(data=df, x='weekofyear', color=base_color);\n",
    "plt.xticks(rotation=90);\n",
    "plt.title('Usage Distribution throughout the Year of GoBike (2018)\\n', fontsize=17)\n",
    "plt.xlabel('Week of the Year', fontsize=14)\n",
    "plt.ylabel('Number of Rental (unit 1k)', fontsize=14)\n",
    "\n",
    "yticks = np.arange(0, 51, 10)\n",
    "yticks_units = yticks*1000\n",
    "plt.yticks(yticks_units, yticks);"
   ]
  },
  {
   "cell_type": "markdown",
   "metadata": {
    "slideshow": {
     "slide_type": "skip"
    }
   },
   "source": [
    "### END"
   ]
  }
 ],
 "metadata": {
  "celltoolbar": "Slideshow",
  "kernelspec": {
   "display_name": "Python 3",
   "language": "python",
   "name": "python3"
  },
  "language_info": {
   "codemirror_mode": {
    "name": "ipython",
    "version": 3
   },
   "file_extension": ".py",
   "mimetype": "text/x-python",
   "name": "python",
   "nbconvert_exporter": "python",
   "pygments_lexer": "ipython3",
   "version": "3.7.0"
  }
 },
 "nbformat": 4,
 "nbformat_minor": 2
}
